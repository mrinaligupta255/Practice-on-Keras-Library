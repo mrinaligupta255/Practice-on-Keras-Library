{
  "nbformat": 4,
  "nbformat_minor": 0,
  "metadata": {
    "colab": {
      "name": "Learning Rate Schedules using Keras on Ionsphere data.ipynb",
      "provenance": [],
      "include_colab_link": true
    },
    "kernelspec": {
      "name": "python3",
      "display_name": "Python 3"
    }
  },
  "cells": [
    {
      "cell_type": "markdown",
      "metadata": {
        "id": "view-in-github",
        "colab_type": "text"
      },
      "source": [
        "<a href=\"https://colab.research.google.com/github/mrinaligupta255/Practice-on-Keras-Library/blob/master/Learning_Rate_Schedules_using_Keras_on_Ionsphere_data.ipynb\" target=\"_parent\"><img src=\"https://colab.research.google.com/assets/colab-badge.svg\" alt=\"Open In Colab\"/></a>"
      ]
    },
    {
      "cell_type": "code",
      "metadata": {
        "id": "1rctwCOvR5u7",
        "colab_type": "code",
        "colab": {}
      },
      "source": [
        "import tensorflow as tf\n",
        "tf.logging.set_verbosity(tf.logging.ERROR)\n",
        "\n",
        "import math\n",
        "import numpy as np\n",
        "import pandas as pd\n",
        "from keras.models import Sequential\n",
        "from keras.layers import Dense\n",
        "from keras.optimizers import SGD\n",
        "from keras.callbacks import LearningRateScheduler\n",
        "from sklearn.preprocessing import LabelEncoder"
      ],
      "execution_count": 0,
      "outputs": []
    },
    {
      "cell_type": "code",
      "metadata": {
        "id": "eWGC3MsETtAV",
        "colab_type": "code",
        "colab": {}
      },
      "source": [
        "seed=1\n",
        "url='https://raw.githubusercontent.com/mrinaligupta255/Practice-on-Keras-Library/master/ionosphere.csv'\n",
        "dataframe=pd.read_csv(url,header=None)\n",
        "data=dataframe.values\n",
        "X=data[:,0:34]\n",
        "Y=data[:,34]\n",
        "encoder=LabelEncoder()\n",
        "encoded_Y=encoder.fit_transform(Y)\n"
      ],
      "execution_count": 0,
      "outputs": []
    },
    {
      "cell_type": "code",
      "metadata": {
        "id": "nOMGQG1sUVEl",
        "colab_type": "code",
        "colab": {}
      },
      "source": [
        "def create_model_With_TimeBasedLearningSchedule(learning_rate,momentum,decay_rate):\n",
        "  model=Sequential()\n",
        "  model.add(Dense(34,input_dim=34,kernel_initializer='normal',activation='relu'))\n",
        "  model.add(Dense(1,kernel_initializer='normal',activation='sigmoid'))\n",
        "  sgd=SGD(lr=learning_rate,momentum=momentum,decay=decay_rate,nesterov=False)\n",
        "  model.compile(loss='binary_crossentropy',optimizer=sgd,metrics=['accuracy'])\n",
        "\n",
        "  return model\n",
        "\n",
        "def create_model_With_DropBasedLearningSchedule():\n",
        "  model=Sequential()\n",
        "  model.add(Dense(34,input_dim=34,kernel_initializer='normal',activation='relu'))\n",
        "  model.add(Dense(1,kernel_initializer='normal',activation='sigmoid'))\n",
        "  sgd=SGD(lr=0.0,momentum=0.8,decay=0.0,nesterov=False)\n",
        "  model.compile(loss='binary_crossentropy',optimizer=sgd,metrics=['accuracy'])\n",
        "\n",
        "  return model\n",
        "\n",
        "def step_decay(epoch):\n",
        "  initial_lr=0.1\n",
        "  drop=0.5\n",
        "  epochs_drop=10.0\n",
        "  lrate=initial_lr*math.pow(drop,math.floor((1+epoch)/epochs_drop))\n",
        "  return lrate"
      ],
      "execution_count": 0,
      "outputs": []
    },
    {
      "cell_type": "code",
      "metadata": {
        "id": "AJZhb8qvVE35",
        "colab_type": "code",
        "colab": {
          "base_uri": "https://localhost:8080/",
          "height": 1000
        },
        "outputId": "132c8f95-4ff1-4bb1-a3f4-03c012eb534c"
      },
      "source": [
        "#Time based leraning rate schedules\n",
        "learning_rate=0.1\n",
        "epochs=50\n",
        "decay_rate=learning_rate/epochs\n",
        "momentum=0.8\n",
        "model=create_model_With_TimeBasedLearningSchedule(learning_rate,momentum,decay_rate)\n",
        "model.fit(X,encoded_Y,validation_split=0.33,epochs=epochs,batch_size=28,verbose=2)"
      ],
      "execution_count": 9,
      "outputs": [
        {
          "output_type": "stream",
          "text": [
            "Train on 235 samples, validate on 116 samples\n",
            "Epoch 1/50\n",
            " - 0s - loss: 0.6813 - acc: 0.6936 - val_loss: 0.6467 - val_acc: 0.6897\n",
            "Epoch 2/50\n",
            " - 0s - loss: 0.6319 - acc: 0.7574 - val_loss: 0.5190 - val_acc: 0.8621\n",
            "Epoch 3/50\n",
            " - 0s - loss: 0.5560 - acc: 0.8170 - val_loss: 0.4439 - val_acc: 0.9310\n",
            "Epoch 4/50\n",
            " - 0s - loss: 0.4440 - acc: 0.8553 - val_loss: 0.4731 - val_acc: 0.8966\n",
            "Epoch 5/50\n",
            " - 0s - loss: 0.3835 - acc: 0.8809 - val_loss: 0.2455 - val_acc: 0.9655\n",
            "Epoch 6/50\n",
            " - 0s - loss: 0.3138 - acc: 0.9064 - val_loss: 0.2144 - val_acc: 0.9655\n",
            "Epoch 7/50\n",
            " - 0s - loss: 0.2856 - acc: 0.8979 - val_loss: 0.2686 - val_acc: 0.9310\n",
            "Epoch 8/50\n",
            " - 0s - loss: 0.2641 - acc: 0.9106 - val_loss: 0.4192 - val_acc: 0.8362\n",
            "Epoch 9/50\n",
            " - 0s - loss: 0.2534 - acc: 0.9149 - val_loss: 0.1647 - val_acc: 0.9655\n",
            "Epoch 10/50\n",
            " - 0s - loss: 0.2171 - acc: 0.9319 - val_loss: 0.1451 - val_acc: 0.9741\n",
            "Epoch 11/50\n",
            " - 0s - loss: 0.1911 - acc: 0.9404 - val_loss: 0.1397 - val_acc: 0.9655\n",
            "Epoch 12/50\n",
            " - 0s - loss: 0.1776 - acc: 0.9404 - val_loss: 0.2162 - val_acc: 0.9397\n",
            "Epoch 13/50\n",
            " - 0s - loss: 0.1601 - acc: 0.9617 - val_loss: 0.1029 - val_acc: 0.9741\n",
            "Epoch 14/50\n",
            " - 0s - loss: 0.1647 - acc: 0.9277 - val_loss: 0.1474 - val_acc: 0.9569\n",
            "Epoch 15/50\n",
            " - 0s - loss: 0.1526 - acc: 0.9404 - val_loss: 0.1442 - val_acc: 0.9741\n",
            "Epoch 16/50\n",
            " - 0s - loss: 0.1382 - acc: 0.9617 - val_loss: 0.1366 - val_acc: 0.9828\n",
            "Epoch 17/50\n",
            " - 0s - loss: 0.1284 - acc: 0.9574 - val_loss: 0.1259 - val_acc: 0.9828\n",
            "Epoch 18/50\n",
            " - 0s - loss: 0.1229 - acc: 0.9617 - val_loss: 0.1103 - val_acc: 0.9828\n",
            "Epoch 19/50\n",
            " - 0s - loss: 0.1180 - acc: 0.9617 - val_loss: 0.1179 - val_acc: 0.9828\n",
            "Epoch 20/50\n",
            " - 0s - loss: 0.1155 - acc: 0.9574 - val_loss: 0.1490 - val_acc: 0.9569\n",
            "Epoch 21/50\n",
            " - 0s - loss: 0.1218 - acc: 0.9617 - val_loss: 0.0790 - val_acc: 0.9914\n",
            "Epoch 22/50\n",
            " - 0s - loss: 0.1090 - acc: 0.9702 - val_loss: 0.1147 - val_acc: 0.9914\n",
            "Epoch 23/50\n",
            " - 0s - loss: 0.1020 - acc: 0.9702 - val_loss: 0.1170 - val_acc: 0.9655\n",
            "Epoch 24/50\n",
            " - 0s - loss: 0.0973 - acc: 0.9660 - val_loss: 0.0790 - val_acc: 0.9914\n",
            "Epoch 25/50\n",
            " - 0s - loss: 0.0983 - acc: 0.9745 - val_loss: 0.1285 - val_acc: 0.9741\n",
            "Epoch 26/50\n",
            " - 0s - loss: 0.0951 - acc: 0.9702 - val_loss: 0.0811 - val_acc: 0.9914\n",
            "Epoch 27/50\n",
            " - 0s - loss: 0.0960 - acc: 0.9702 - val_loss: 0.0741 - val_acc: 0.9914\n",
            "Epoch 28/50\n",
            " - 0s - loss: 0.0885 - acc: 0.9702 - val_loss: 0.1130 - val_acc: 0.9828\n",
            "Epoch 29/50\n",
            " - 0s - loss: 0.0863 - acc: 0.9745 - val_loss: 0.0854 - val_acc: 0.9914\n",
            "Epoch 30/50\n",
            " - 0s - loss: 0.0875 - acc: 0.9702 - val_loss: 0.0873 - val_acc: 0.9914\n",
            "Epoch 31/50\n",
            " - 0s - loss: 0.0818 - acc: 0.9787 - val_loss: 0.0713 - val_acc: 0.9914\n",
            "Epoch 32/50\n",
            " - 0s - loss: 0.0780 - acc: 0.9787 - val_loss: 0.0983 - val_acc: 0.9914\n",
            "Epoch 33/50\n",
            " - 0s - loss: 0.0779 - acc: 0.9787 - val_loss: 0.0709 - val_acc: 0.9914\n",
            "Epoch 34/50\n",
            " - 0s - loss: 0.0740 - acc: 0.9787 - val_loss: 0.0908 - val_acc: 0.9914\n",
            "Epoch 35/50\n",
            " - 0s - loss: 0.0722 - acc: 0.9830 - val_loss: 0.0748 - val_acc: 0.9914\n",
            "Epoch 36/50\n",
            " - 0s - loss: 0.0703 - acc: 0.9787 - val_loss: 0.0681 - val_acc: 0.9914\n",
            "Epoch 37/50\n",
            " - 0s - loss: 0.0687 - acc: 0.9830 - val_loss: 0.0820 - val_acc: 0.9914\n",
            "Epoch 38/50\n",
            " - 0s - loss: 0.0674 - acc: 0.9830 - val_loss: 0.0729 - val_acc: 0.9914\n",
            "Epoch 39/50\n",
            " - 0s - loss: 0.0654 - acc: 0.9830 - val_loss: 0.0758 - val_acc: 0.9914\n",
            "Epoch 40/50\n",
            " - 0s - loss: 0.0632 - acc: 0.9830 - val_loss: 0.0731 - val_acc: 0.9914\n",
            "Epoch 41/50\n",
            " - 0s - loss: 0.0622 - acc: 0.9830 - val_loss: 0.0792 - val_acc: 0.9914\n",
            "Epoch 42/50\n",
            " - 0s - loss: 0.0634 - acc: 0.9830 - val_loss: 0.0623 - val_acc: 0.9914\n",
            "Epoch 43/50\n",
            " - 0s - loss: 0.0629 - acc: 0.9830 - val_loss: 0.0917 - val_acc: 0.9828\n",
            "Epoch 44/50\n",
            " - 0s - loss: 0.0620 - acc: 0.9830 - val_loss: 0.0720 - val_acc: 0.9914\n",
            "Epoch 45/50\n",
            " - 0s - loss: 0.0593 - acc: 0.9830 - val_loss: 0.0691 - val_acc: 0.9914\n",
            "Epoch 46/50\n",
            " - 0s - loss: 0.0571 - acc: 0.9830 - val_loss: 0.0668 - val_acc: 0.9914\n",
            "Epoch 47/50\n",
            " - 0s - loss: 0.0557 - acc: 0.9830 - val_loss: 0.0689 - val_acc: 0.9914\n",
            "Epoch 48/50\n",
            " - 0s - loss: 0.0545 - acc: 0.9830 - val_loss: 0.0725 - val_acc: 0.9914\n",
            "Epoch 49/50\n",
            " - 0s - loss: 0.0543 - acc: 0.9872 - val_loss: 0.0588 - val_acc: 0.9914\n",
            "Epoch 50/50\n",
            " - 0s - loss: 0.0524 - acc: 0.9830 - val_loss: 0.0686 - val_acc: 0.9914\n"
          ],
          "name": "stdout"
        },
        {
          "output_type": "execute_result",
          "data": {
            "text/plain": [
              "<keras.callbacks.History at 0x7f73752002e8>"
            ]
          },
          "metadata": {
            "tags": []
          },
          "execution_count": 9
        }
      ]
    },
    {
      "cell_type": "code",
      "metadata": {
        "id": "Pj9SXc9uYSJB",
        "colab_type": "code",
        "colab": {
          "base_uri": "https://localhost:8080/",
          "height": 1000
        },
        "outputId": "ec904f35-88b2-4197-dafc-621f367c7627"
      },
      "source": [
        "#drop based learning rate schedules\n",
        "epoch=50\n",
        "lrate=LearningRateScheduler(step_decay)\n",
        "callbacks=[lrate]\n",
        "model=create_model_With_DropBasedLearningSchedule()\n",
        "model.fit(X,encoded_Y,epochs=epoch,batch_size=28,callbacks=callbacks,verbose=2)"
      ],
      "execution_count": 12,
      "outputs": [
        {
          "output_type": "stream",
          "text": [
            "Epoch 1/50\n",
            " - 0s - loss: 0.6404 - acc: 0.6638\n",
            "Epoch 2/50\n",
            " - 0s - loss: 0.5771 - acc: 0.6724\n",
            "Epoch 3/50\n",
            " - 0s - loss: 0.4670 - acc: 0.8148\n",
            "Epoch 4/50\n",
            " - 0s - loss: 0.3685 - acc: 0.8689\n",
            "Epoch 5/50\n",
            " - 0s - loss: 0.3020 - acc: 0.8917\n",
            "Epoch 6/50\n",
            " - 0s - loss: 0.2809 - acc: 0.8946\n",
            "Epoch 7/50\n",
            " - 0s - loss: 0.2253 - acc: 0.9145\n",
            "Epoch 8/50\n",
            " - 0s - loss: 0.2030 - acc: 0.9316\n",
            "Epoch 9/50\n",
            " - 0s - loss: 0.1983 - acc: 0.9373\n",
            "Epoch 10/50\n",
            " - 0s - loss: 0.1598 - acc: 0.9459\n",
            "Epoch 11/50\n",
            " - 0s - loss: 0.1473 - acc: 0.9459\n",
            "Epoch 12/50\n",
            " - 0s - loss: 0.1391 - acc: 0.9573\n",
            "Epoch 13/50\n",
            " - 0s - loss: 0.1291 - acc: 0.9573\n",
            "Epoch 14/50\n",
            " - 0s - loss: 0.1247 - acc: 0.9687\n",
            "Epoch 15/50\n",
            " - 0s - loss: 0.1169 - acc: 0.9715\n",
            "Epoch 16/50\n",
            " - 0s - loss: 0.1158 - acc: 0.9687\n",
            "Epoch 17/50\n",
            " - 0s - loss: 0.1098 - acc: 0.9658\n",
            "Epoch 18/50\n",
            " - 0s - loss: 0.1051 - acc: 0.9658\n",
            "Epoch 19/50\n",
            " - 0s - loss: 0.1022 - acc: 0.9687\n",
            "Epoch 20/50\n",
            " - 0s - loss: 0.0984 - acc: 0.9744\n",
            "Epoch 21/50\n",
            " - 0s - loss: 0.0956 - acc: 0.9744\n",
            "Epoch 22/50\n",
            " - 0s - loss: 0.0949 - acc: 0.9744\n",
            "Epoch 23/50\n",
            " - 0s - loss: 0.0927 - acc: 0.9715\n",
            "Epoch 24/50\n",
            " - 0s - loss: 0.0915 - acc: 0.9772\n",
            "Epoch 25/50\n",
            " - 0s - loss: 0.0895 - acc: 0.9744\n",
            "Epoch 26/50\n",
            " - 0s - loss: 0.0889 - acc: 0.9772\n",
            "Epoch 27/50\n",
            " - 0s - loss: 0.0877 - acc: 0.9772\n",
            "Epoch 28/50\n",
            " - 0s - loss: 0.0864 - acc: 0.9772\n",
            "Epoch 29/50\n",
            " - 0s - loss: 0.0836 - acc: 0.9772\n",
            "Epoch 30/50\n",
            " - 0s - loss: 0.0830 - acc: 0.9801\n",
            "Epoch 31/50\n",
            " - 0s - loss: 0.0818 - acc: 0.9829\n",
            "Epoch 32/50\n",
            " - 0s - loss: 0.0812 - acc: 0.9801\n",
            "Epoch 33/50\n",
            " - 0s - loss: 0.0808 - acc: 0.9801\n",
            "Epoch 34/50\n",
            " - 0s - loss: 0.0800 - acc: 0.9829\n",
            "Epoch 35/50\n",
            " - 0s - loss: 0.0803 - acc: 0.9801\n",
            "Epoch 36/50\n",
            " - 0s - loss: 0.0787 - acc: 0.9829\n",
            "Epoch 37/50\n",
            " - 0s - loss: 0.0790 - acc: 0.9801\n",
            "Epoch 38/50\n",
            " - 0s - loss: 0.0790 - acc: 0.9801\n",
            "Epoch 39/50\n",
            " - 0s - loss: 0.0774 - acc: 0.9829\n",
            "Epoch 40/50\n",
            " - 0s - loss: 0.0774 - acc: 0.9829\n",
            "Epoch 41/50\n",
            " - 0s - loss: 0.0768 - acc: 0.9829\n",
            "Epoch 42/50\n",
            " - 0s - loss: 0.0760 - acc: 0.9829\n",
            "Epoch 43/50\n",
            " - 0s - loss: 0.0758 - acc: 0.9829\n",
            "Epoch 44/50\n",
            " - 0s - loss: 0.0757 - acc: 0.9829\n",
            "Epoch 45/50\n",
            " - 0s - loss: 0.0755 - acc: 0.9829\n",
            "Epoch 46/50\n",
            " - 0s - loss: 0.0753 - acc: 0.9829\n",
            "Epoch 47/50\n",
            " - 0s - loss: 0.0752 - acc: 0.9829\n",
            "Epoch 48/50\n",
            " - 0s - loss: 0.0747 - acc: 0.9829\n",
            "Epoch 49/50\n",
            " - 0s - loss: 0.0744 - acc: 0.9829\n",
            "Epoch 50/50\n",
            " - 0s - loss: 0.0740 - acc: 0.9829\n"
          ],
          "name": "stdout"
        },
        {
          "output_type": "execute_result",
          "data": {
            "text/plain": [
              "<keras.callbacks.History at 0x7f7374f84128>"
            ]
          },
          "metadata": {
            "tags": []
          },
          "execution_count": 12
        }
      ]
    },
    {
      "cell_type": "code",
      "metadata": {
        "id": "7AFLjd84Z60c",
        "colab_type": "code",
        "colab": {}
      },
      "source": [
        ""
      ],
      "execution_count": 0,
      "outputs": []
    }
  ]
}