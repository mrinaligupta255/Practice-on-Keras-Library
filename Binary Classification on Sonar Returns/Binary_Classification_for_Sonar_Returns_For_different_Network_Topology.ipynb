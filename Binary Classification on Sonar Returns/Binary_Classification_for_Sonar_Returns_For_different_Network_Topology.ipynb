{
  "nbformat": 4,
  "nbformat_minor": 0,
  "metadata": {
    "colab": {
      "name": "Binary Classification for Sonar Returns : For different Network Topology.ipynb",
      "provenance": [],
      "collapsed_sections": [],
      "include_colab_link": true
    },
    "kernelspec": {
      "name": "python3",
      "display_name": "Python 3"
    }
  },
  "cells": [
    {
      "cell_type": "markdown",
      "metadata": {
        "id": "view-in-github",
        "colab_type": "text"
      },
      "source": [
        "<a href=\"https://colab.research.google.com/github/mrinaligupta255/Practice-on-Keras-Library/blob/master/Binary%20Classification%20on%20Sonar%20Returns/Binary_Classification_for_Sonar_Returns_For_different_Network_Topology.ipynb\" target=\"_parent\"><img src=\"https://colab.research.google.com/assets/colab-badge.svg\" alt=\"Open In Colab\"/></a>"
      ]
    },
    {
      "cell_type": "code",
      "metadata": {
        "id": "IuxBKVmuORy5",
        "colab_type": "code",
        "colab": {
          "base_uri": "https://localhost:8080/",
          "height": 81
        },
        "outputId": "5b821344-64ef-4be3-8365-e5bae44766fb"
      },
      "source": [
        "# to avoid update logging\n",
        "import os\n",
        "os.environ['TF_CPP_MIN_LOG_LEVEL'] = '3'\n",
        "import numpy as np\n",
        "import pandas as pd\n",
        "import tensorflow as tf\n",
        "from keras.models import Sequential\n",
        "from keras.layers import Dense\n",
        "from keras.wrappers.scikit_learn import KerasClassifier\n",
        "from sklearn.model_selection import StratifiedKFold,cross_val_score\n",
        "from sklearn.preprocessing import LabelEncoder\n",
        "from sklearn.preprocessing import StandardScaler\n",
        "\n",
        "from sklearn.pipeline import Pipeline\n",
        "\n",
        "#to remove tensorflow update warnings from the output window\n",
        "tf.logging.set_verbosity(tf.logging.ERROR)"
      ],
      "execution_count": 1,
      "outputs": [
        {
          "output_type": "display_data",
          "data": {
            "text/html": [
              "<p style=\"color: red;\">\n",
              "The default version of TensorFlow in Colab will soon switch to TensorFlow 2.x.<br>\n",
              "We recommend you <a href=\"https://www.tensorflow.org/guide/migrate\" target=\"_blank\">upgrade</a> now \n",
              "or ensure your notebook will continue to use TensorFlow 1.x via the <code>%tensorflow_version 1.x</code> magic:\n",
              "<a href=\"https://colab.research.google.com/notebooks/tensorflow_version.ipynb\" target=\"_blank\">more info</a>.</p>\n"
            ],
            "text/plain": [
              "<IPython.core.display.HTML object>"
            ]
          },
          "metadata": {
            "tags": []
          }
        },
        {
          "output_type": "stream",
          "text": [
            "Using TensorFlow backend.\n"
          ],
          "name": "stderr"
        }
      ]
    },
    {
      "cell_type": "markdown",
      "metadata": {
        "id": "dN00ZBhPOfOX",
        "colab_type": "text"
      },
      "source": [
        "Experimenting with the network structure\n",
        "1. Reducing the number of neurons in the hidden layer\n",
        "      \n",
        "        input--->30-->1\n",
        "2. Adding more hidden layer\n",
        "\n",
        "        input--->60-->30-->1"
      ]
    },
    {
      "cell_type": "code",
      "metadata": {
        "id": "Jwc-6q2DOd-5",
        "colab_type": "code",
        "colab": {
          "base_uri": "https://localhost:8080/",
          "height": 52
        },
        "outputId": "b712083f-9bd0-4419-cf09-09953f224696"
      },
      "source": [
        "url='https://raw.githubusercontent.com/mrinaligupta255/Practice-on-Keras-Library/master/Binary%20Classification%20on%20Sonar%20Returns/sonar.csv'\n",
        "dataframe=pd.read_csv(url,header=None)\n",
        "data=dataframe.values\n",
        "X=data[:,0:60]\n",
        "Y=data[:,60]\n",
        "encoder=LabelEncoder()\n",
        "encoded_Y=encoder.fit_transform(Y)\n",
        "seed=1\n",
        "def create_basemodel1():\n",
        "  model=Sequential()\n",
        "  model.add(Dense(30,input_dim=60, kernel_initializer='normal',activation='relu'))\n",
        "  model.add(Dense(1, kernel_initializer='normal',activation='sigmoid'))\n",
        "  model.compile(loss='binary_crossentropy',optimizer='adam',metrics=['accuracy'])\n",
        "  return model\n",
        "\n",
        "def create_basemodel2():\n",
        "  model=Sequential()\n",
        "  model.add(Dense(60,input_dim=60, kernel_initializer='normal',activation='relu'))\n",
        "  model.add(Dense(30, kernel_initializer='normal',activation='relu'))\n",
        "  model.add(Dense(1, kernel_initializer='normal',activation='sigmoid'))\n",
        "  model.compile(loss='binary_crossentropy',optimizer='adam',metrics=['accuracy'])\n",
        "  return model\n",
        "#evaluate the baseline model with standardized dataset\n",
        "estimator1=[]\n",
        "estimator1.append(('standardize',StandardScaler()))\n",
        "estimator1.append(('mlp',KerasClassifier(build_fn=create_basemodel1,epochs=100,batch_size=5,verbose=0)))\n",
        "pipeline1=Pipeline(estimator1)\n",
        "kfold1=StratifiedKFold(n_splits=10,shuffle=True,random_state=seed)\n",
        "results1=cross_val_score(pipeline1,X,encoded_Y,cv=kfold1)\n",
        "print('Baseline mean accuracy for model 1 %.2f%% (%.2f%%)'% (results1.mean()*100,results1.std()*100))\n",
        "\n",
        "\n",
        "\n",
        "\n",
        "estimator=[]\n",
        "estimator.append(('standardize',StandardScaler()))\n",
        "estimator.append(('mlp',KerasClassifier(build_fn=create_basemodel2,epochs=100,batch_size=5,verbose=0)))\n",
        "pipeline=Pipeline(estimator)\n",
        "kfold=StratifiedKFold(n_splits=10,shuffle=True,random_state=seed)\n",
        "results2=cross_val_score(pipeline,X,encoded_Y,cv=kfold)\n",
        "print('Baseline mean accuracy for model 2 %.2f%% (%.2f%%)'% (results2.mean()*100,results2.std()*100))"
      ],
      "execution_count": 2,
      "outputs": [
        {
          "output_type": "stream",
          "text": [
            "Baseline mean accuracy for model 1 85.55% (5.22%)\n",
            "Baseline mean accuracy for model 2 86.07% (7.15%)\n"
          ],
          "name": "stdout"
        }
      ]
    },
    {
      "cell_type": "code",
      "metadata": {
        "id": "MTxS5dOaPYVw",
        "colab_type": "code",
        "colab": {}
      },
      "source": [
        ""
      ],
      "execution_count": 0,
      "outputs": []
    }
  ]
}