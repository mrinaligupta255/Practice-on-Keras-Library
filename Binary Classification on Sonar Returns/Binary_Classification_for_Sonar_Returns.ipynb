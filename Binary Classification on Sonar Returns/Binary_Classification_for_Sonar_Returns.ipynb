{
  "nbformat": 4,
  "nbformat_minor": 0,
  "metadata": {
    "colab": {
      "name": "Binary Classification for Sonar Returns.ipynb",
      "provenance": [],
      "include_colab_link": true
    },
    "kernelspec": {
      "name": "python3",
      "display_name": "Python 3"
    }
  },
  "cells": [
    {
      "cell_type": "markdown",
      "metadata": {
        "id": "view-in-github",
        "colab_type": "text"
      },
      "source": [
        "<a href=\"https://colab.research.google.com/github/mrinaligupta255/Practice-on-Keras-Library/blob/master/Binary%20Classification%20on%20Sonar%20Returns/Binary_Classification_for_Sonar_Returns.ipynb\" target=\"_parent\"><img src=\"https://colab.research.google.com/assets/colab-badge.svg\" alt=\"Open In Colab\"/></a>"
      ]
    },
    {
      "cell_type": "markdown",
      "metadata": {
        "id": "6zXz-1TIyAOj",
        "colab_type": "text"
      },
      "source": [
        " ##use this if ur data is in Google Drive .Generally for large dataset it is used "
      ]
    },
    {
      "cell_type": "code",
      "metadata": {
        "id": "9so4wzner4Uh",
        "colab_type": "code",
        "colab": {}
      },
      "source": [
        "      \n",
        "#from google.colab import drive\n",
        "#drive.mount('/content/gdrive')\n"
      ],
      "execution_count": 0,
      "outputs": []
    },
    {
      "cell_type": "code",
      "metadata": {
        "id": "YVq2TaBMEaG_",
        "colab_type": "code",
        "colab": {
          "base_uri": "https://localhost:8080/",
          "height": 64
        },
        "outputId": "41fc2fef-77d6-4c01-88a8-0de5efab40e6"
      },
      "source": [
        "import tensorflow as tf\n",
        "\n",
        "#to remove tensorflow update warnings from the output window\n",
        "tf.logging.set_verbosity(tf.logging.ERROR)"
      ],
      "execution_count": 1,
      "outputs": [
        {
          "output_type": "display_data",
          "data": {
            "text/html": [
              "<p style=\"color: red;\">\n",
              "The default version of TensorFlow in Colab will soon switch to TensorFlow 2.x.<br>\n",
              "We recommend you <a href=\"https://www.tensorflow.org/guide/migrate\" target=\"_blank\">upgrade</a> now \n",
              "or ensure your notebook will continue to use TensorFlow 1.x via the <code>%tensorflow_version 1.x</code> magic:\n",
              "<a href=\"https://colab.research.google.com/notebooks/tensorflow_version.ipynb\" target=\"_blank\">more info</a>.</p>\n"
            ],
            "text/plain": [
              "<IPython.core.display.HTML object>"
            ]
          },
          "metadata": {
            "tags": []
          }
        }
      ]
    },
    {
      "cell_type": "code",
      "metadata": {
        "id": "VYSemVfRv8cN",
        "colab_type": "code",
        "colab": {
          "base_uri": "https://localhost:8080/",
          "height": 35
        },
        "outputId": "4cc48e2b-dd7d-4f51-cfa2-6a5d4af8b0e9"
      },
      "source": [
        "import numpy as np\n",
        "import pandas as pd\n",
        "from keras.models import Sequential\n",
        "from keras.layers import Dense\n",
        "from keras.wrappers.scikit_learn import KerasClassifier\n",
        "from sklearn.model_selection import StratifiedKFold,cross_val_score\n",
        "from sklearn.preprocessing import LabelEncoder"
      ],
      "execution_count": 2,
      "outputs": [
        {
          "output_type": "stream",
          "text": [
            "Using TensorFlow backend.\n"
          ],
          "name": "stderr"
        }
      ]
    },
    {
      "cell_type": "markdown",
      "metadata": {
        "id": "gnjRjPBdyELa",
        "colab_type": "text"
      },
      "source": [
        "Importing the data from the Github.\n",
        "\n",
        "Click on the RAW view of the data and paste the url in read_csv in pandas"
      ]
    },
    {
      "cell_type": "code",
      "metadata": {
        "id": "pEoiq3sJxYOa",
        "colab_type": "code",
        "colab": {}
      },
      "source": [
        "url='https://raw.githubusercontent.com/mrinaligupta255/Practice-on-Keras-Library/master/Binary%20Classification%20on%20Sonar%20Returns/sonar.csv'\n",
        "dataframe=pd.read_csv(url,header=None)\n",
        "data=dataframe.values\n",
        "X=data[:,0:60]\n",
        "Y=data[:,60]"
      ],
      "execution_count": 0,
      "outputs": []
    },
    {
      "cell_type": "markdown",
      "metadata": {
        "id": "PTli-VhAyleD",
        "colab_type": "text"
      },
      "source": [
        "Encoding the output Data into 1 and 0 for string R and M respectively"
      ]
    },
    {
      "cell_type": "code",
      "metadata": {
        "id": "z0L1YaECxcVZ",
        "colab_type": "code",
        "colab": {}
      },
      "source": [
        "encoder=LabelEncoder()\n",
        "encoded_Y=encoder.fit_transform(Y)\n",
        "#print(Y,encoded_Y)"
      ],
      "execution_count": 0,
      "outputs": []
    },
    {
      "cell_type": "code",
      "metadata": {
        "id": "5edGBVMXy0EJ",
        "colab_type": "code",
        "colab": {}
      },
      "source": [
        "seed=7"
      ],
      "execution_count": 0,
      "outputs": []
    },
    {
      "cell_type": "code",
      "metadata": {
        "id": "l6VjnmJJzioc",
        "colab_type": "code",
        "colab": {}
      },
      "source": [
        "def create_basemodel():\n",
        "  model=Sequential()\n",
        "  model.add(Dense(60,input_dim=60, kernel_initializer='normal',activation='relu'))\n",
        "  model.add(Dense(1, kernel_initializer='normal',activation='sigmoid'))\n",
        "  model.compile(loss='binary_crossentropy',optimizer='adam',metrics=['accuracy'])\n",
        "  return model"
      ],
      "execution_count": 0,
      "outputs": []
    },
    {
      "cell_type": "code",
      "metadata": {
        "id": "M3PDvjsm0Ot8",
        "colab_type": "code",
        "colab": {}
      },
      "source": [
        "kfold=StratifiedKFold(n_splits=10,shuffle=True,random_state=seed)\n",
        "estimator=KerasClassifier(build_fn=create_basemodel,epochs=100,batch_size=5,verbose=0)\n",
        "results=cross_val_score(estimator,X,encoded_Y,cv=kfold)\n"
      ],
      "execution_count": 0,
      "outputs": []
    },
    {
      "cell_type": "code",
      "metadata": {
        "id": "4gilTAEm1E5H",
        "colab_type": "code",
        "colab": {
          "base_uri": "https://localhost:8080/",
          "height": 35
        },
        "outputId": "8384e1a7-f2af-4151-9a89-4c0270886d6d"
      },
      "source": [
        "print('Baseline %.2f%% (%.2f%%)'% (results.mean()*100,results.std()*100))"
      ],
      "execution_count": 8,
      "outputs": [
        {
          "output_type": "stream",
          "text": [
            "Baseline 80.23% (6.75%)\n"
          ],
          "name": "stdout"
        }
      ]
    },
    {
      "cell_type": "code",
      "metadata": {
        "id": "dEGbppX82gGK",
        "colab_type": "code",
        "colab": {}
      },
      "source": [
        ""
      ],
      "execution_count": 0,
      "outputs": []
    }
  ]
}