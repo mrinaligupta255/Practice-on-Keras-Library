{
  "nbformat": 4,
  "nbformat_minor": 0,
  "metadata": {
    "colab": {
      "name": "Binary Classification on Sonar Returns using Standardization.ipynb",
      "provenance": [],
      "include_colab_link": true
    },
    "kernelspec": {
      "name": "python3",
      "display_name": "Python 3"
    }
  },
  "cells": [
    {
      "cell_type": "markdown",
      "metadata": {
        "id": "view-in-github",
        "colab_type": "text"
      },
      "source": [
        "<a href=\"https://colab.research.google.com/github/mrinaligupta255/Practice-on-Keras-Library/blob/master/Binary%20Classification%20on%20Sonar%20Returns/Binary_Classification_on_Sonar_Returns_using_Standardization.ipynb\" target=\"_parent\"><img src=\"https://colab.research.google.com/assets/colab-badge.svg\" alt=\"Open In Colab\"/></a>"
      ]
    },
    {
      "cell_type": "code",
      "metadata": {
        "id": "ZZCuy3UEDA9q",
        "colab_type": "code",
        "colab": {}
      },
      "source": [
        "# to avoid update logging\n",
        "import os\n",
        "os.environ['TF_CPP_MIN_LOG_LEVEL'] = '3'"
      ],
      "execution_count": 0,
      "outputs": []
    },
    {
      "cell_type": "markdown",
      "metadata": {
        "id": "XHtjnisx-4pQ",
        "colab_type": "text"
      },
      "source": [
        "Using Standardization to build the neural network to increase the accuracy\n",
        "\n",
        "The data is rescales so that the mean is 0 and the standard deviation is 1.This preserves the gaussian distribution whilst normalizing the central tendencies for each attribute\n",
        "\n",
        "Rather than performing standardization on the entire dataset,it is good practise to train the standraization procedure on the training data within the pass of a cross validation run and to use the trained standardization instance to prepare the inseen test fold.\n",
        "\n",
        "To achieve this we will use scikit-learn  Pipleline class.The pipeline class provides a wrapper that exceutes one or more models within a pass  of the cross validation procedure."
      ]
    },
    {
      "cell_type": "code",
      "metadata": {
        "id": "M69E5yTV-pTK",
        "colab_type": "code",
        "colab": {
          "base_uri": "https://localhost:8080/",
          "height": 81
        },
        "outputId": "b7553117-73e2-45a9-d68f-b66b99da3ddb"
      },
      "source": [
        "import numpy as np\n",
        "import pandas as pd\n",
        "import tensorflow as tf\n",
        "from keras.models import Sequential\n",
        "from keras.layers import Dense\n",
        "from keras.wrappers.scikit_learn import KerasClassifier\n",
        "from sklearn.model_selection import StratifiedKFold,cross_val_score\n",
        "from sklearn.preprocessing import LabelEncoder\n",
        "from sklearn.preprocessing import StandardScaler\n",
        "\n",
        "from sklearn.pipeline import Pipeline\n",
        "\n",
        "#to remove tensorflow update warnings from the output window\n",
        "tf.logging.set_verbosity(tf.logging.ERROR)"
      ],
      "execution_count": 2,
      "outputs": [
        {
          "output_type": "display_data",
          "data": {
            "text/html": [
              "<p style=\"color: red;\">\n",
              "The default version of TensorFlow in Colab will soon switch to TensorFlow 2.x.<br>\n",
              "We recommend you <a href=\"https://www.tensorflow.org/guide/migrate\" target=\"_blank\">upgrade</a> now \n",
              "or ensure your notebook will continue to use TensorFlow 1.x via the <code>%tensorflow_version 1.x</code> magic:\n",
              "<a href=\"https://colab.research.google.com/notebooks/tensorflow_version.ipynb\" target=\"_blank\">more info</a>.</p>\n"
            ],
            "text/plain": [
              "<IPython.core.display.HTML object>"
            ]
          },
          "metadata": {
            "tags": []
          }
        },
        {
          "output_type": "stream",
          "text": [
            "Using TensorFlow backend.\n"
          ],
          "name": "stderr"
        }
      ]
    },
    {
      "cell_type": "code",
      "metadata": {
        "id": "4P6ZnazVBI98",
        "colab_type": "code",
        "colab": {
          "base_uri": "https://localhost:8080/",
          "height": 35
        },
        "outputId": "41730254-08f7-4df3-ca7c-47c9a6a0730d"
      },
      "source": [
        "url='https://raw.githubusercontent.com/mrinaligupta255/Practice-on-Keras-Library/master/Binary%20Classification%20on%20Sonar%20Returns/sonar.csv'\n",
        "dataframe=pd.read_csv(url,header=None)\n",
        "data=dataframe.values\n",
        "X=data[:,0:60]\n",
        "Y=data[:,60]\n",
        "encoder=LabelEncoder()\n",
        "encoded_Y=encoder.fit_transform(Y)\n",
        "seed=1\n",
        "def create_basemodel():\n",
        "  model=Sequential()\n",
        "  model.add(Dense(60,input_dim=60, kernel_initializer='normal',activation='relu'))\n",
        "  model.add(Dense(1, kernel_initializer='normal',activation='sigmoid'))\n",
        "  model.compile(loss='binary_crossentropy',optimizer='adam',metrics=['accuracy'])\n",
        "  return model\n",
        "\n",
        "\n",
        "#evaluate the baseline model with standardized dataset\n",
        "estimator=[]\n",
        "estimator.append(('standardize',StandardScaler()))\n",
        "estimator.append(('mlp',KerasClassifier(build_fn=create_basemodel,epochs=100,batch_size=5,verbose=0)))\n",
        "pipeline=Pipeline(estimator)\n",
        "kfold=StratifiedKFold(n_splits=10,shuffle=True,random_state=seed)\n",
        "results=cross_val_score(pipeline,X,encoded_Y,cv=kfold)\n",
        "print('Baseline %.2f%% (%.2f%%)'% (results.mean()*100,results.std()*100))"
      ],
      "execution_count": 3,
      "outputs": [
        {
          "output_type": "stream",
          "text": [
            "Baseline 85.11% (4.92%)\n"
          ],
          "name": "stdout"
        }
      ]
    },
    {
      "cell_type": "code",
      "metadata": {
        "id": "BY5ZVVzzCGW4",
        "colab_type": "code",
        "colab": {}
      },
      "source": [
        ""
      ],
      "execution_count": 0,
      "outputs": []
    }
  ]
}