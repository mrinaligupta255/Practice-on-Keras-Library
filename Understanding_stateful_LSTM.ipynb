{
  "nbformat": 4,
  "nbformat_minor": 0,
  "metadata": {
    "colab": {
      "name": "Understanding stateful LSTM.ipynb",
      "provenance": [],
      "include_colab_link": true
    },
    "kernelspec": {
      "name": "python3",
      "display_name": "Python 3"
    }
  },
  "cells": [
    {
      "cell_type": "markdown",
      "metadata": {
        "id": "view-in-github",
        "colab_type": "text"
      },
      "source": [
        "<a href=\"https://colab.research.google.com/github/mrinaligupta255/Practice-on-Keras-Library/blob/master/Understanding_stateful_LSTM.ipynb\" target=\"_parent\"><img src=\"https://colab.research.google.com/assets/colab-badge.svg\" alt=\"Open In Colab\"/></a>"
      ]
    },
    {
      "cell_type": "code",
      "metadata": {
        "id": "PoQSC7E5D6gm",
        "colab_type": "code",
        "colab": {
          "base_uri": "https://localhost:8080/",
          "height": 81
        },
        "outputId": "358bf526-449e-480e-f521-12e01d43b621"
      },
      "source": [
        "import tensorflow as tf\n",
        "tf.logging.set_verbosity(tf.logging.ERROR)\n",
        "import pandas as pd\n",
        "import numpy as np\n",
        "import math\n",
        "import matplotlib.pyplot as plt\n",
        "from sklearn.preprocessing import MinMaxScaler\n",
        "from sklearn.metrics import mean_squared_error\n",
        "\n",
        "from keras.layers import Dense,LSTM\n",
        "from keras.models import Sequential\n",
        "\n",
        "from keras.utils import to_categorical\n",
        "plt.style.use(['dark_background'])\n",
        "\n",
        "seed=1"
      ],
      "execution_count": 3,
      "outputs": [
        {
          "output_type": "display_data",
          "data": {
            "text/html": [
              "<p style=\"color: red;\">\n",
              "The default version of TensorFlow in Colab will soon switch to TensorFlow 2.x.<br>\n",
              "We recommend you <a href=\"https://www.tensorflow.org/guide/migrate\" target=\"_blank\">upgrade</a> now \n",
              "or ensure your notebook will continue to use TensorFlow 1.x via the <code>%tensorflow_version 1.x</code> magic:\n",
              "<a href=\"https://colab.research.google.com/notebooks/tensorflow_version.ipynb\" target=\"_blank\">more info</a>.</p>\n"
            ],
            "text/plain": [
              "<IPython.core.display.HTML object>"
            ]
          },
          "metadata": {
            "tags": []
          }
        },
        {
          "output_type": "stream",
          "text": [
            "Using TensorFlow backend.\n"
          ],
          "name": "stderr"
        }
      ]
    },
    {
      "cell_type": "code",
      "metadata": {
        "id": "PXSUOUwcJy9y",
        "colab_type": "code",
        "colab": {}
      },
      "source": [
        "alphabet=\"ABCDEFGHIJKLMNOPQRSTUVWXYZ\"\n",
        "\n",
        "#createmapping of the characters and then reverse\n",
        "char_to_int =dict((c,i) for i ,c in enumerate(alphabet))\n",
        "int_to_char =dict((i,c) for i ,c in enumerate(alphabet))"
      ],
      "execution_count": 0,
      "outputs": []
    },
    {
      "cell_type": "code",
      "metadata": {
        "id": "l_BencwseUHY",
        "colab_type": "code",
        "colab": {}
      },
      "source": [
        "def create_dataset(seq_len):\n",
        "  dataX,dataY=[],[]\n",
        "  for i in range(0,len(alphabet)-seq_len,1):\n",
        "    seq_in=alphabet[i:i+seq_len]\n",
        "    seq_out=alphabet[i+seq_len]\n",
        "    dataX.append([char_to_int[char] for char in seq_in])\n",
        "    dataY.append(char_to_int[seq_out])\n",
        "    print(seq_in,'->',seq_out)\n",
        "  return np.array(dataX),np.array(dataY)\n"
      ],
      "execution_count": 0,
      "outputs": []
    },
    {
      "cell_type": "code",
      "metadata": {
        "id": "iXqLNUr1fDtW",
        "colab_type": "code",
        "colab": {
          "base_uri": "https://localhost:8080/",
          "height": 451
        },
        "outputId": "96e64a3c-45ce-495a-af88-af4839a82f9e"
      },
      "source": [
        "seq_len=1\n",
        "dataX,dataY=create_dataset(seq_len)\n"
      ],
      "execution_count": 22,
      "outputs": [
        {
          "output_type": "stream",
          "text": [
            "A -> B\n",
            "B -> C\n",
            "C -> D\n",
            "D -> E\n",
            "E -> F\n",
            "F -> G\n",
            "G -> H\n",
            "H -> I\n",
            "I -> J\n",
            "J -> K\n",
            "K -> L\n",
            "L -> M\n",
            "M -> N\n",
            "N -> O\n",
            "O -> P\n",
            "P -> Q\n",
            "Q -> R\n",
            "R -> S\n",
            "S -> T\n",
            "T -> U\n",
            "U -> V\n",
            "V -> W\n",
            "W -> X\n",
            "X -> Y\n",
            "Y -> Z\n"
          ],
          "name": "stdout"
        }
      ]
    },
    {
      "cell_type": "code",
      "metadata": {
        "id": "DYb4pGCPfOvJ",
        "colab_type": "code",
        "colab": {}
      },
      "source": [
        "#reshaping the data to [samples,timestamp,features]\n",
        "X=dataX.reshape(dataX.shape[0],seq_len,1)\n",
        "#normlizing the input\n",
        "X=X/float(len(alphabet))\n",
        "#one hot encoding of the output data\n",
        "Y=to_categorical(dataY)\n"
      ],
      "execution_count": 0,
      "outputs": []
    },
    {
      "cell_type": "code",
      "metadata": {
        "id": "Bpv_kjSAjerF",
        "colab_type": "code",
        "colab": {}
      },
      "source": [
        "#creating model\n",
        "model=Sequential()\n",
        "model.add(LSTM(32,input_shape=(X.shape[1],X.shape[2])))\n",
        "model.add(Dense(Y.shape[1],activation='softmax'))\n",
        "\n",
        "model.compile(loss='categorical_crossentropy',optimizer='adam')\n",
        "model.fit(X,Y,epochs=500,batch_size=1,verbose=0)\n",
        "scores=model.evaluate(X,Y,verbose=0)\n",
        "\n"
      ],
      "execution_count": 0,
      "outputs": []
    },
    {
      "cell_type": "code",
      "metadata": {
        "id": "_l_pzWNykRDR",
        "colab_type": "code",
        "colab": {
          "base_uri": "https://localhost:8080/",
          "height": 451
        },
        "outputId": "d1591083-67c9-466a-d54c-7759980562dc"
      },
      "source": [
        "for pattern in dataX:\n",
        "  X=np.reshape(pattern,(1,len(pattern),1))\n",
        "  X=X/float(len(alphabet))\n",
        "  prediction=model.predict(X,verbose=0)\n",
        "  index=np.argmax(prediction)\n",
        "  result=int_to_char[index]\n",
        "  seq_in=[int_to_char[value] for value in pattern]\n",
        "  print( seq_in,'->',result)"
      ],
      "execution_count": 25,
      "outputs": [
        {
          "output_type": "stream",
          "text": [
            "['A'] -> B\n",
            "['B'] -> C\n",
            "['C'] -> D\n",
            "['D'] -> E\n",
            "['E'] -> F\n",
            "['F'] -> G\n",
            "['G'] -> H\n",
            "['H'] -> I\n",
            "['I'] -> J\n",
            "['J'] -> K\n",
            "['K'] -> L\n",
            "['L'] -> M\n",
            "['M'] -> N\n",
            "['N'] -> O\n",
            "['O'] -> P\n",
            "['P'] -> Q\n",
            "['Q'] -> R\n",
            "['R'] -> S\n",
            "['S'] -> T\n",
            "['T'] -> U\n",
            "['U'] -> V\n",
            "['V'] -> X\n",
            "['W'] -> Z\n",
            "['X'] -> Z\n",
            "['Y'] -> Z\n"
          ],
          "name": "stdout"
        }
      ]
    },
    {
      "cell_type": "code",
      "metadata": {
        "id": "XUEv85rjk0R-",
        "colab_type": "code",
        "colab": {}
      },
      "source": [
        ""
      ],
      "execution_count": 0,
      "outputs": []
    }
  ]
}