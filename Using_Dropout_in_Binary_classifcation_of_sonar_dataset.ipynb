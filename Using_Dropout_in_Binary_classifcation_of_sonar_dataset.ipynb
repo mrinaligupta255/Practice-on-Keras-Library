{
  "nbformat": 4,
  "nbformat_minor": 0,
  "metadata": {
    "colab": {
      "name": "Using Dropout in Binary classifcation of sonar dataset.ipynb",
      "provenance": [],
      "include_colab_link": true
    },
    "kernelspec": {
      "name": "python3",
      "display_name": "Python 3"
    }
  },
  "cells": [
    {
      "cell_type": "markdown",
      "metadata": {
        "id": "view-in-github",
        "colab_type": "text"
      },
      "source": [
        "<a href=\"https://colab.research.google.com/github/mrinaligupta255/Practice-on-Keras-Library/blob/master/Using_Dropout_in_Binary_classifcation_of_sonar_dataset.ipynb\" target=\"_parent\"><img src=\"https://colab.research.google.com/assets/colab-badge.svg\" alt=\"Open In Colab\"/></a>"
      ]
    },
    {
      "cell_type": "markdown",
      "metadata": {
        "id": "PZErwr2hEz_Q",
        "colab_type": "text"
      },
      "source": [
        "##Dropout\n",
        "\n",
        "Dropout is a technique where randomly selected neurons are ignored during training. They\n",
        "are dropped-out randomly. This means that their contribution to the activation of downstream\n",
        "neurons is temporally removed on the forward pass and any weight updates are not applied to\n",
        "the neuron on the backward pass.\n",
        "As a neural network learns, neuron weights settle into their context within the network.\n",
        "Weights of neurons are tuned for specific features providing some specialization. Neighboring\n",
        "neurons become to rely on this specialization, which if taken too far can result in a fragile model\n",
        "too specialized to the training data. This reliant on context for a neuron during training is\n",
        "referred to as complex co-adaptations. You can imagine that if neurons are randomly dropped\n",
        "out of the network during training, that other neurons will have to step in and handle the\n",
        "representation required to make predictions for the missing neurons. This is believed to result\n",
        "in multiple independent internal representations being learned by the network."
      ]
    },
    {
      "cell_type": "code",
      "metadata": {
        "id": "uKjiRWpt-Xpz",
        "colab_type": "code",
        "colab": {}
      },
      "source": [
        "import tensorflow as tf\n",
        "tf.logging.set_verbosity(tf.logging.ERROR)\n",
        "import numpy as np\n",
        "import pandas as pd\n",
        "from keras.layers import Dense,Dropout\n",
        "from keras.models import Sequential\n",
        "from keras.optimizers import SGD\n",
        "from keras.wrappers.scikit_learn import KerasClassifier\n",
        "from sklearn.preprocessing import LabelEncoder,StandardScaler\n",
        "from sklearn.model_selection import StratifiedKFold,cross_val_score\n",
        "from sklearn.pipeline import Pipeline\n",
        "\n",
        "from keras.constraints import maxnorm\n",
        "\n",
        "# to avoid update logging\n",
        "import os\n",
        "os.environ['TF_CPP_MIN_LOG_LEVEL'] = '3'\n",
        "\n",
        "seed=1\n",
        "url='https://raw.githubusercontent.com/mrinaligupta255/Practice-on-Keras-Library/master/Binary%20Classification%20on%20Sonar%20Returns/sonar.csv'\n",
        "dataframe=pd.read_csv(url,header=None)\n",
        "data=dataframe.values\n",
        "X=data[:,0:60]\n",
        "Y=data[:,60]\n",
        "encoder=LabelEncoder()\n",
        "encoded_Y=encoder.fit_transform(Y)\n",
        "\n"
      ],
      "execution_count": 0,
      "outputs": []
    },
    {
      "cell_type": "code",
      "metadata": {
        "id": "0f9GjU4b_thL",
        "colab_type": "code",
        "colab": {}
      },
      "source": [
        "def create_model_NO_DROPOUT():\n",
        "  model=Sequential()\n",
        "  model.add(Dense(60,input_dim=60,kernel_initializer='normal',activation='relu'))\n",
        "  model.add(Dense(30,kernel_initializer='normal',activation='relu'))\n",
        "  model.add(Dense(1,kernel_initializer='normal',activation='sigmoid'))\n",
        "  sgd=SGD(lr=0.01,momentum=0.8,decay=0.0,nesterov=False)\n",
        "  model.compile(loss='binary_crossentropy',optimizer=sgd,metrics=['accuracy'])\n",
        "\n",
        "  return model\n",
        "\n",
        "def create_model_WITH_DROPOUT_ON_INPUT_LAYER():\n",
        "  model=Sequential()\n",
        "  model.add(Dropout(0.2,input_shape=(60,)))\n",
        "  model.add(Dense(60,kernel_initializer='normal',activation='relu'))\n",
        "  model.add(Dense(30,kernel_initializer='normal',activation='relu'))\n",
        "  model.add(Dense(1,kernel_initializer='normal',activation='sigmoid'))\n",
        "  sgd=SGD(lr=0.01,momentum=0.8,decay=0.0,nesterov=False)\n",
        "\n",
        "  model.compile(loss='binary_crossentropy',optimizer=sgd,metrics=['accuracy'])\n",
        "\n",
        "  return model\n",
        "\n",
        "def create_model_WITH_DROPOUT_ON_HIDDEN_LAYER():\n",
        "    model=Sequential()\n",
        "    model.add(Dense(60,input_dim=60,kernel_initializer='normal',activation='relu'))\n",
        "    model.add(Dropout(0.2))\n",
        "    model.add(Dense(30,kernel_initializer='normal',activation='relu',kernel_constraint=maxnorm(3)))\n",
        "    model.add(Dropout(0.2))\n",
        "    model.add(Dense(1,kernel_initializer='normal',activation='sigmoid'))\n",
        "    sgd=SGD(lr=0.01,momentum=0.8,decay=0.0,nesterov=False)\n",
        "    model.compile(loss='binary_crossentropy',optimizer=sgd,metrics=['accuracy'])\n",
        "\n",
        "    return model"
      ],
      "execution_count": 0,
      "outputs": []
    },
    {
      "cell_type": "code",
      "metadata": {
        "id": "1yEyESLn_Xmc",
        "colab_type": "code",
        "colab": {
          "base_uri": "https://localhost:8080/",
          "height": 35
        },
        "outputId": "645fc340-f1d2-4afb-f71e-48dbefc93fef"
      },
      "source": [
        "#evaluate the baseline model with standardized dataset\n",
        "#1. Without dropout\n",
        "np.random.seed(seed)\n",
        "estimator=[]\n",
        "estimator.append(('standardize',StandardScaler()))\n",
        "estimator.append(('mlp',KerasClassifier(build_fn=create_model_NO_DROPOUT,epochs=100,batch_size=5,verbose=0)))\n",
        "pipeline=Pipeline(estimator)\n",
        "kfold=StratifiedKFold(n_splits=10,shuffle=True,random_state=seed)\n",
        "results=cross_val_score(pipeline,X,encoded_Y,cv=kfold)\n",
        "print('Without dropout accuracy %.2f%% (%.2f%%)'% (results.mean()*100,results.std()*100))\n",
        "\n"
      ],
      "execution_count": 3,
      "outputs": [
        {
          "output_type": "stream",
          "text": [
            "Without dropout accuracy 84.12% (8.26%)\n"
          ],
          "name": "stdout"
        }
      ]
    },
    {
      "cell_type": "code",
      "metadata": {
        "id": "dp7p3MOkD8mH",
        "colab_type": "code",
        "colab": {
          "base_uri": "https://localhost:8080/",
          "height": 35
        },
        "outputId": "9981e714-4d4a-4990-a505-1f8c7f00ce41"
      },
      "source": [
        "#2. Dropout in input layer\n",
        "np.random.seed(seed)\n",
        "estimator=[]\n",
        "estimator.append(('standardize',StandardScaler()))\n",
        "estimator.append(('mlp',KerasClassifier(build_fn=create_model_WITH_DROPOUT_ON_INPUT_LAYER,epochs=100,batch_size=5,verbose=0)))\n",
        "pipeline=Pipeline(estimator)\n",
        "kfold=StratifiedKFold(n_splits=10,shuffle=True,random_state=seed)\n",
        "results=cross_val_score(pipeline,X,encoded_Y,cv=kfold)\n",
        "print(' dropout in input layer accuracy %.2f%% (%.2f%%)'% (results.mean()*100,results.std()*100))\n"
      ],
      "execution_count": 4,
      "outputs": [
        {
          "output_type": "stream",
          "text": [
            " dropout in input layer accuracy 85.54% (7.45%)\n"
          ],
          "name": "stdout"
        }
      ]
    },
    {
      "cell_type": "code",
      "metadata": {
        "id": "F7gTxF05GZqd",
        "colab_type": "code",
        "colab": {
          "base_uri": "https://localhost:8080/",
          "height": 35
        },
        "outputId": "3b6f2119-4fbf-4ecb-9eed-5850d2697c20"
      },
      "source": [
        "#3. Dropout in hidden layer\n",
        "np.random.seed(seed)\n",
        "estimator=[]\n",
        "estimator.append(('standardize',StandardScaler()))\n",
        "estimator.append(('mlp',KerasClassifier(build_fn=create_model_WITH_DROPOUT_ON_HIDDEN_LAYER,epochs=100,batch_size=5,verbose=0)))\n",
        "pipeline=Pipeline(estimator)\n",
        "kfold=StratifiedKFold(n_splits=10,shuffle=True,random_state=seed)\n",
        "results=cross_val_score(pipeline,X,encoded_Y,cv=kfold)\n",
        "print(' dropout in hidden layer accuracy %.2f%% (%.2f%%)'% (results.mean()*100,results.std()*100))"
      ],
      "execution_count": 12,
      "outputs": [
        {
          "output_type": "stream",
          "text": [
            " dropout in hidden layer accuracy 84.59% (7.30%)\n"
          ],
          "name": "stdout"
        }
      ]
    },
    {
      "cell_type": "code",
      "metadata": {
        "id": "MvFyoCt6NXuo",
        "colab_type": "code",
        "colab": {}
      },
      "source": [
        ""
      ],
      "execution_count": 0,
      "outputs": []
    }
  ]
}