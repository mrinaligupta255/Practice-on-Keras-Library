{
  "nbformat": 4,
  "nbformat_minor": 0,
  "metadata": {
    "colab": {
      "name": "Regression of Boston House Prices.ipynb",
      "provenance": [],
      "collapsed_sections": [],
      "include_colab_link": true
    },
    "kernelspec": {
      "name": "python3",
      "display_name": "Python 3"
    }
  },
  "cells": [
    {
      "cell_type": "markdown",
      "metadata": {
        "id": "view-in-github",
        "colab_type": "text"
      },
      "source": [
        "<a href=\"https://colab.research.google.com/github/mrinaligupta255/Practice-on-Keras-Library/blob/master/Regression%20of%20Boston%20House%20Prices/Regression_of_Boston_House_Prices.ipynb\" target=\"_parent\"><img src=\"https://colab.research.google.com/assets/colab-badge.svg\" alt=\"Open In Colab\"/></a>"
      ]
    },
    {
      "cell_type": "code",
      "metadata": {
        "id": "kthR_ymJHjEi",
        "colab_type": "code",
        "colab": {
          "base_uri": "https://localhost:8080/",
          "height": 64
        },
        "outputId": "7a82ca3b-eec6-4532-c2ad-37ecfbe10be7"
      },
      "source": [
        "import tensorflow as tf\n",
        "#to remove tensorflow update warnings from the output window\n",
        "tf.logging.set_verbosity(tf.logging.ERROR)"
      ],
      "execution_count": 1,
      "outputs": [
        {
          "output_type": "display_data",
          "data": {
            "text/html": [
              "<p style=\"color: red;\">\n",
              "The default version of TensorFlow in Colab will soon switch to TensorFlow 2.x.<br>\n",
              "We recommend you <a href=\"https://www.tensorflow.org/guide/migrate\" target=\"_blank\">upgrade</a> now \n",
              "or ensure your notebook will continue to use TensorFlow 1.x via the <code>%tensorflow_version 1.x</code> magic:\n",
              "<a href=\"https://colab.research.google.com/notebooks/tensorflow_version.ipynb\" target=\"_blank\">more info</a>.</p>\n"
            ],
            "text/plain": [
              "<IPython.core.display.HTML object>"
            ]
          },
          "metadata": {
            "tags": []
          }
        }
      ]
    },
    {
      "cell_type": "code",
      "metadata": {
        "id": "ZFUXbbqSGevd",
        "colab_type": "code",
        "colab": {
          "base_uri": "https://localhost:8080/",
          "height": 35
        },
        "outputId": "0a58504d-e65e-4ca8-97f0-b620acc10671"
      },
      "source": [
        "import numpy as np\n",
        "import pandas as pd\n",
        "from keras.models import Sequential\n",
        "from keras.layers import Dense\n",
        "from keras.wrappers.scikit_learn import KerasRegressor\n",
        "from sklearn.model_selection import cross_val_score\n",
        "from sklearn.preprocessing import StandardScaler\n",
        "from sklearn.model_selection import KFold\n",
        "from sklearn.pipeline import Pipeline\n",
        "\n"
      ],
      "execution_count": 2,
      "outputs": [
        {
          "output_type": "stream",
          "text": [
            "Using TensorFlow backend.\n"
          ],
          "name": "stderr"
        }
      ]
    },
    {
      "cell_type": "code",
      "metadata": {
        "id": "UmTPJX_0Hq8B",
        "colab_type": "code",
        "colab": {}
      },
      "source": [
        "seed=2\n",
        "url='https://raw.githubusercontent.com/mrinaligupta255/Practice-on-Keras-Library/master/Regression%20of%20Boston%20House%20Prices/boston_housing.csv'\n",
        "dataframe=pd.read_csv(url)\n",
        "data=dataframe.values\n",
        "X=data[:,0:13]\n",
        "Y=data[:,13]\n",
        "def create_model():\n",
        "  model=Sequential()\n",
        "  model.add(Dense(13,input_dim=13,kernel_initializer='normal',activation='relu'))\n",
        "  model.add(Dense(20,kernel_initializer='normal',activation='relu'))\n",
        "  model.add(Dense(1,kernel_initializer='normal'))\n",
        "  model.compile(loss='mean_squared_error',optimizer='adam')\n",
        "\n",
        "  return model\n",
        "\n",
        "estimator=[]\n",
        "estimator.append(('Standardize',StandardScaler()))\n",
        "np.random.seed(seed)\n",
        "estimator.append(('mlp',KerasRegressor(build_fn=create_model,epochs=100,batch_size=5,verbose=0)))\n",
        "pipeline=Pipeline(estimator)\n",
        "kfold=KFold(n_splits=10,random_state=seed)\n",
        "result=cross_val_score(pipeline,X,Y,cv=kfold)\n"
      ],
      "execution_count": 0,
      "outputs": []
    },
    {
      "cell_type": "code",
      "metadata": {
        "id": "7cB0l8V-H0om",
        "colab_type": "code",
        "colab": {
          "base_uri": "https://localhost:8080/",
          "height": 35
        },
        "outputId": "38fb2814-b75b-4d43-ea7b-dc2d73aedc2b"
      },
      "source": [
        "print(\"result loss MSE:%.2f%%,(%.2f%%)\" %(result.mean(),result.std()))"
      ],
      "execution_count": 7,
      "outputs": [
        {
          "output_type": "stream",
          "text": [
            "result loss MSE:-22.03%,(25.71%)\n"
          ],
          "name": "stdout"
        }
      ]
    },
    {
      "cell_type": "code",
      "metadata": {
        "id": "22OxyLS1LoFI",
        "colab_type": "code",
        "colab": {}
      },
      "source": [
        ""
      ],
      "execution_count": 0,
      "outputs": []
    }
  ]
}