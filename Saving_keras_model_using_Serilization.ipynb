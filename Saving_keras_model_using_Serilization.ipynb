{
  "nbformat": 4,
  "nbformat_minor": 0,
  "metadata": {
    "colab": {
      "name": "Saving keras model using Serilization",
      "provenance": [],
      "collapsed_sections": [],
      "include_colab_link": true
    },
    "kernelspec": {
      "name": "python3",
      "display_name": "Python 3"
    }
  },
  "cells": [
    {
      "cell_type": "markdown",
      "metadata": {
        "id": "view-in-github",
        "colab_type": "text"
      },
      "source": [
        "<a href=\"https://colab.research.google.com/github/mrinaligupta255/Practice-on-Keras-Library/blob/master/Saving_keras_model_using_Serilization.ipynb\" target=\"_parent\"><img src=\"https://colab.research.google.com/assets/colab-badge.svg\" alt=\"Open In Colab\"/></a>"
      ]
    },
    {
      "cell_type": "markdown",
      "metadata": {
        "id": "xZecGpvYAJC9",
        "colab_type": "text"
      },
      "source": [
        "**SAVING MODEL FOR LATER WITH SERIALIZATION**\n",
        "\n",
        "1. Weights to HDF5(Hierachial data format)\n",
        "2.Model Structure to JSON\n",
        "3.Model structure to YAML"
      ]
    },
    {
      "cell_type": "code",
      "metadata": {
        "id": "s5I33et3wVsM",
        "colab_type": "code",
        "outputId": "892a9c89-da71-4e9e-eb5a-f1ec2d6a2ae1",
        "colab": {
          "base_uri": "https://localhost:8080/",
          "height": 124
        }
      },
      "source": [
        "from google.colab import drive\n",
        "drive.mount('/content/gdrive')"
      ],
      "execution_count": 0,
      "outputs": [
        {
          "output_type": "stream",
          "text": [
            "Go to this URL in a browser: https://accounts.google.com/o/oauth2/auth?client_id=947318989803-6bn6qk8qdgf4n4g3pfee6491hc0brc4i.apps.googleusercontent.com&redirect_uri=urn%3aietf%3awg%3aoauth%3a2.0%3aoob&response_type=code&scope=email%20https%3a%2f%2fwww.googleapis.com%2fauth%2fdocs.test%20https%3a%2f%2fwww.googleapis.com%2fauth%2fdrive%20https%3a%2f%2fwww.googleapis.com%2fauth%2fdrive.photos.readonly%20https%3a%2f%2fwww.googleapis.com%2fauth%2fpeopleapi.readonly\n",
            "\n",
            "Enter your authorization code:\n",
            "··········\n",
            "Mounted at /content/gdrive\n"
          ],
          "name": "stdout"
        }
      ]
    },
    {
      "cell_type": "code",
      "metadata": {
        "id": "7-89dfP7AHhg",
        "colab_type": "code",
        "outputId": "a4470de7-9294-4755-d459-3159b99f62a8",
        "colab": {
          "base_uri": "https://localhost:8080/",
          "height": 99
        }
      },
      "source": [
        "import numpy as np\n",
        "import pandas as pd\n",
        "from keras.models import Sequential\n",
        "from keras.layers import Dense\n",
        "from sklearn.preprocessing import LabelEncoder\n",
        "\n",
        "#to remove tensorflow update warnings from the output window\n",
        "import tensorflow as tf\n",
        "tf.logging.set_verbosity(tf.logging.ERROR)\n",
        "\n",
        "url='https://raw.githubusercontent.com/mrinaligupta255/Practice-on-Keras-Library/master/Binary%20Classification%20on%20Sonar%20Returns/sonar.csv'\n",
        "dataframe=pd.read_csv(url,header=None)\n",
        "data=dataframe.values\n",
        "X=data[:,0:60]\n",
        "Y=data[:,60]\n",
        "encoder=LabelEncoder()\n",
        "encoded_Y=encoder.fit_transform(Y)\n",
        "seed=1\n",
        "\n",
        "model=Sequential()\n",
        "model.add(Dense(30,input_dim=60, kernel_initializer='normal',activation='relu'))\n",
        "model.add(Dense(1, kernel_initializer='normal',activation='sigmoid'))\n",
        "model.compile(loss='binary_crossentropy',optimizer='adam',metrics=['accuracy'])\n",
        "\n",
        "model.fit(X,encoded_Y,epochs=100,batch_size=5,verbose=0)\n",
        "\n",
        "result=model.evaluate(X,encoded_Y,verbose=0)\n",
        "\n",
        "print(model.metrics_names[1],result[1]*100)"
      ],
      "execution_count": 0,
      "outputs": [
        {
          "output_type": "stream",
          "text": [
            "Using TensorFlow backend.\n"
          ],
          "name": "stderr"
        },
        {
          "output_type": "display_data",
          "data": {
            "text/html": [
              "<p style=\"color: red;\">\n",
              "The default version of TensorFlow in Colab will soon switch to TensorFlow 2.x.<br>\n",
              "We recommend you <a href=\"https://www.tensorflow.org/guide/migrate\" target=\"_blank\">upgrade</a> now \n",
              "or ensure your notebook will continue to use TensorFlow 1.x via the <code>%tensorflow_version 1.x</code> magic:\n",
              "<a href=\"https://colab.research.google.com/notebooks/tensorflow_version.ipynb\" target=\"_blank\">more info</a>.</p>\n"
            ],
            "text/plain": [
              "<IPython.core.display.HTML object>"
            ]
          },
          "metadata": {
            "tags": []
          }
        },
        {
          "output_type": "stream",
          "text": [
            "acc 87.98076923076923\n"
          ],
          "name": "stdout"
        }
      ]
    },
    {
      "cell_type": "code",
      "metadata": {
        "id": "SdULi5UGBDnJ",
        "colab_type": "code",
        "outputId": "e05d2d26-d7ad-4d09-c137-59c6c67bb01b",
        "colab": {
          "base_uri": "https://localhost:8080/",
          "height": 35
        }
      },
      "source": [
        "from keras.models import model_from_json,model_from_yaml\n",
        "\n",
        "#serialize model to JSON\n",
        "\n",
        "model_json=model.to_json()\n",
        "#The path given here will create a file in the mounted google drive\n",
        "with open(\"/content/gdrive/My Drive/model.json\",'w') as json_file:\n",
        "  json_file.write(model_json)\n",
        "\n",
        "\n",
        "# #serialise weights to HDF5\n",
        "#The path given here will save the files in the mounted google drive\n",
        "model.save_weights(\"/content/gdrive/My Drive/weights.h5\")\n",
        "\n",
        "\n",
        "\n",
        "#loading tje model and weights back\n",
        "\n",
        "open_json_file=open(\"/content/gdrive/My Drive/model.json\",'r')\n",
        "loaded_model_json=open_json_file.read()\n",
        "open_json_file.close()\n",
        "loaded_model=model_from_json(loaded_model_json)\n",
        "\n",
        "loaded_model.load_weights(\"/content/gdrive/My Drive/weights.h5\")\n",
        "\n",
        "loaded_model.compile(loss='binary_crossentropy',optimizer='adam',metrics=['accuracy'])\n",
        "result=loaded_model.evaluate(X,encoded_Y,verbose=0)\n",
        "print(model.metrics_names[1],result[1]*100)\n",
        "\n",
        "\n",
        "\n"
      ],
      "execution_count": 0,
      "outputs": [
        {
          "output_type": "stream",
          "text": [
            "acc 87.98076923076923\n"
          ],
          "name": "stdout"
        }
      ]
    },
    {
      "cell_type": "code",
      "metadata": {
        "id": "BsdoqIDSFvxW",
        "colab_type": "code",
        "outputId": "04adde68-bcfe-484c-d862-542694976ec2",
        "colab": {
          "base_uri": "https://localhost:8080/",
          "height": 35
        }
      },
      "source": [
        "#SAVING AND LOADING MODEL FROM YAML\n",
        "model_yaml=model.to_yaml()\n",
        "with open(\"model.yaml\",\"w\") as yaml_file:\n",
        "  yaml_file.write(model_yaml)\n",
        "\n",
        "open_yaml=open(\"model.yaml\",'r')\n",
        "loaded_model_yaml=open_yaml.read()\n",
        "open_yaml.close()\n",
        "loaded_model_YAML=model_from_yaml(model_yaml)\n",
        "loaded_model_YAML.load_weights(\"weights.h5\")\n",
        "loaded_model_YAML.compile(loss='binary_crossentropy',optimizer='adam',metrics=['accuracy'])\n",
        "result=loaded_model_YAML.evaluate(X,encoded_Y,verbose=0)\n",
        "print(model.metrics_names[1],result[1]*100)\n",
        "\n"
      ],
      "execution_count": 0,
      "outputs": [
        {
          "output_type": "stream",
          "text": [
            "acc 87.5\n"
          ],
          "name": "stdout"
        }
      ]
    },
    {
      "cell_type": "markdown",
      "metadata": {
        "id": "T7X5sk4kHfpm",
        "colab_type": "text"
      },
      "source": [
        "Use \n",
        "\n",
        "     pip install PyYAML --upgrade --force-reinstall\n",
        "in case model_from_yaml() throws error"
      ]
    },
    {
      "cell_type": "code",
      "metadata": {
        "id": "iB7BC9mpHAUd",
        "colab_type": "code",
        "outputId": "44ce2111-6f84-414f-a53b-cc6077a46aa2",
        "colab": {
          "base_uri": "https://localhost:8080/",
          "height": 208
        }
      },
      "source": [
        " pip install PyYAML --upgrade --force-reinstall"
      ],
      "execution_count": 0,
      "outputs": [
        {
          "output_type": "stream",
          "text": [
            "Processing /root/.cache/pip/wheels/d9/45/dd/65f0b38450c47cf7e5312883deb97d065e030c5cca0a365030/PyYAML-5.1.2-cp36-cp36m-linux_x86_64.whl\n",
            "Installing collected packages: PyYAML\n",
            "  Found existing installation: PyYAML 5.1.2\n",
            "    Uninstalling PyYAML-5.1.2:\n",
            "      Successfully uninstalled PyYAML-5.1.2\n",
            "Successfully installed PyYAML-5.1.2\n"
          ],
          "name": "stdout"
        },
        {
          "output_type": "display_data",
          "data": {
            "application/vnd.colab-display-data+json": {
              "pip_warning": {
                "packages": [
                  "yaml"
                ]
              }
            }
          },
          "metadata": {
            "tags": []
          }
        }
      ]
    }
  ]
}