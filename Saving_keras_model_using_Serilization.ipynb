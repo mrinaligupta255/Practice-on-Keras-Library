{
  "nbformat": 4,
  "nbformat_minor": 0,
  "metadata": {
    "colab": {
      "name": "Saving keras model using Serilization",
      "provenance": [],
      "collapsed_sections": [],
      "include_colab_link": true
    },
    "kernelspec": {
      "name": "python3",
      "display_name": "Python 3"
    }
  },
  "cells": [
    {
      "cell_type": "markdown",
      "metadata": {
        "id": "view-in-github",
        "colab_type": "text"
      },
      "source": [
        "<a href=\"https://colab.research.google.com/github/mrinaligupta255/Practice-on-Keras-Library/blob/master/Saving_keras_model_using_Serilization.ipynb\" target=\"_parent\"><img src=\"https://colab.research.google.com/assets/colab-badge.svg\" alt=\"Open In Colab\"/></a>"
      ]
    },
    {
      "cell_type": "markdown",
      "metadata": {
        "id": "xZecGpvYAJC9",
        "colab_type": "text"
      },
      "source": [
        "**SAVING MODEL FOR LATER WITH SERIALIZATION**\n",
        "\n",
        "1. Weights to HDF5(Hierachial data format)\n",
        "2.Model Structure to JSON\n",
        "3.Model structure to YAML"
      ]
    },
    {
      "cell_type": "code",
      "metadata": {
        "id": "7-89dfP7AHhg",
        "colab_type": "code",
        "colab": {
          "base_uri": "https://localhost:8080/",
          "height": 99
        },
        "outputId": "981dbcbc-8ac1-4848-fe3e-59c7956c7ed4"
      },
      "source": [
        "import numpy as np\n",
        "import pandas as pd\n",
        "from keras.models import Sequential\n",
        "from keras.layers import Dense\n",
        "from sklearn.preprocessing import LabelEncoder\n",
        "\n",
        "#to remove tensorflow update warnings from the output window\n",
        "import tensorflow as tf\n",
        "tf.logging.set_verbosity(tf.logging.ERROR)\n",
        "\n",
        "url='https://raw.githubusercontent.com/mrinaligupta255/Practice-on-Keras-Library/master/Binary%20Classification%20on%20Sonar%20Returns/sonar.csv'\n",
        "dataframe=pd.read_csv(url,header=None)\n",
        "data=dataframe.values\n",
        "X=data[:,0:60]\n",
        "Y=data[:,60]\n",
        "encoder=LabelEncoder()\n",
        "encoded_Y=encoder.fit_transform(Y)\n",
        "seed=1\n",
        "\n",
        "model=Sequential()\n",
        "model.add(Dense(30,input_dim=60, kernel_initializer='normal',activation='relu'))\n",
        "model.add(Dense(1, kernel_initializer='normal',activation='sigmoid'))\n",
        "model.compile(loss='binary_crossentropy',optimizer='adam',metrics=['accuracy'])\n",
        "\n",
        "model.fit(X,encoded_Y,epochs=100,batch_size=5,verbose=0)\n",
        "\n",
        "result=model.evaluate(X,encoded_Y,verbose=0)\n",
        "\n",
        "print(model.metrics_names[1],result[1]*100)"
      ],
      "execution_count": 1,
      "outputs": [
        {
          "output_type": "stream",
          "text": [
            "Using TensorFlow backend.\n"
          ],
          "name": "stderr"
        },
        {
          "output_type": "display_data",
          "data": {
            "text/html": [
              "<p style=\"color: red;\">\n",
              "The default version of TensorFlow in Colab will soon switch to TensorFlow 2.x.<br>\n",
              "We recommend you <a href=\"https://www.tensorflow.org/guide/migrate\" target=\"_blank\">upgrade</a> now \n",
              "or ensure your notebook will continue to use TensorFlow 1.x via the <code>%tensorflow_version 1.x</code> magic:\n",
              "<a href=\"https://colab.research.google.com/notebooks/tensorflow_version.ipynb\" target=\"_blank\">more info</a>.</p>\n"
            ],
            "text/plain": [
              "<IPython.core.display.HTML object>"
            ]
          },
          "metadata": {
            "tags": []
          }
        },
        {
          "output_type": "stream",
          "text": [
            "acc 85.09615384615384\n"
          ],
          "name": "stdout"
        }
      ]
    },
    {
      "cell_type": "code",
      "metadata": {
        "id": "SdULi5UGBDnJ",
        "colab_type": "code",
        "colab": {
          "base_uri": "https://localhost:8080/",
          "height": 35
        },
        "outputId": "54e3fdc4-8246-45e2-f490-e831109cdecd"
      },
      "source": [
        "from keras.models import model_from_json,model_from_yaml\n",
        "\n",
        "#serialize model to JSON\n",
        "\n",
        "model_json=model.to_json()\n",
        "\n",
        "with open(\"model.json\",'w') as json_file:\n",
        "  json_file.write(model_json)\n",
        "\n",
        "\n",
        "# #serialise weights to HDF5\n",
        "model.save_weights(\"weights.h5\")\n",
        "\n",
        "\n",
        "\n",
        "#loading tje model and weights back\n",
        "\n",
        "open_json_file=open(\"model.json\",'r')\n",
        "loaded_model_json=open_json_file.read()\n",
        "open_json_file.close()\n",
        "loaded_model=model_from_json(loaded_model_json)\n",
        "\n",
        "loaded_model.load_weights(\"weights.h5\")\n",
        "\n",
        "loaded_model.compile(loss='binary_crossentropy',optimizer='adam',metrics=['accuracy'])\n",
        "result=loaded_model.evaluate(X,encoded_Y,verbose=0)\n",
        "print(model.metrics_names[1],result[1]*100)\n",
        "\n",
        "\n",
        "\n"
      ],
      "execution_count": 2,
      "outputs": [
        {
          "output_type": "stream",
          "text": [
            "acc 85.09615384615384\n"
          ],
          "name": "stdout"
        }
      ]
    },
    {
      "cell_type": "code",
      "metadata": {
        "id": "BsdoqIDSFvxW",
        "colab_type": "code",
        "colab": {
          "base_uri": "https://localhost:8080/",
          "height": 35
        },
        "outputId": "a0a3b285-6fca-4f9e-9f7a-63e77aa62f09"
      },
      "source": [
        "#SAVING AND LOADING MODEL FROM YAML\n",
        "model_yaml=model.to_yaml()\n",
        "with open(\"model.yaml\",\"w\") as yaml_file:\n",
        "  yaml_file.write(model_yaml)\n",
        "\n",
        "open_yaml=open(\"model.yaml\",'r')\n",
        "loaded_model_yaml=open_yaml.read()\n",
        "open_yaml.close()\n",
        "loaded_model_YAML=model_from_yaml(model_yaml)\n",
        "loaded_model_YAML.load_weights(\"weights.h5\")\n",
        "loaded_model_YAML.compile(loss='binary_crossentropy',optimizer='adam',metrics=['accuracy'])\n",
        "result=loaded_model_YAML.evaluate(X,encoded_Y,verbose=0)\n",
        "print(model.metrics_names[1],result[1]*100)\n",
        "\n"
      ],
      "execution_count": 3,
      "outputs": [
        {
          "output_type": "stream",
          "text": [
            "acc 85.09615384615384\n"
          ],
          "name": "stdout"
        }
      ]
    },
    {
      "cell_type": "markdown",
      "metadata": {
        "id": "T7X5sk4kHfpm",
        "colab_type": "text"
      },
      "source": [
        "Use \n",
        "\n",
        "     pip install PyYAML --upgrade --force-reinstall\n",
        "in case model_from_yaml() throws error"
      ]
    },
    {
      "cell_type": "code",
      "metadata": {
        "id": "iB7BC9mpHAUd",
        "colab_type": "code",
        "colab": {
          "base_uri": "https://localhost:8080/",
          "height": 349
        },
        "outputId": "7084ba17-941d-4c82-aca5-49266355df28"
      },
      "source": [
        " pip install PyYAML --upgrade --force-reinstall"
      ],
      "execution_count": 20,
      "outputs": [
        {
          "output_type": "stream",
          "text": [
            "Collecting PyYAML\n",
            "\u001b[?25l  Downloading https://files.pythonhosted.org/packages/e3/e8/b3212641ee2718d556df0f23f78de8303f068fe29cdaa7a91018849582fe/PyYAML-5.1.2.tar.gz (265kB)\n",
            "\r\u001b[K     |█▎                              | 10kB 15.2MB/s eta 0:00:01\r\u001b[K     |██▌                             | 20kB 6.8MB/s eta 0:00:01\r\u001b[K     |███▊                            | 30kB 9.4MB/s eta 0:00:01\r\u001b[K     |█████                           | 40kB 5.9MB/s eta 0:00:01\r\u001b[K     |██████▏                         | 51kB 7.1MB/s eta 0:00:01\r\u001b[K     |███████▍                        | 61kB 8.3MB/s eta 0:00:01\r\u001b[K     |████████▋                       | 71kB 9.5MB/s eta 0:00:01\r\u001b[K     |██████████                      | 81kB 10.5MB/s eta 0:00:01\r\u001b[K     |███████████▏                    | 92kB 11.6MB/s eta 0:00:01\r\u001b[K     |████████████▍                   | 102kB 9.2MB/s eta 0:00:01\r\u001b[K     |█████████████▋                  | 112kB 9.2MB/s eta 0:00:01\r\u001b[K     |██████████████▉                 | 122kB 9.2MB/s eta 0:00:01\r\u001b[K     |████████████████                | 133kB 9.2MB/s eta 0:00:01\r\u001b[K     |█████████████████▎              | 143kB 9.2MB/s eta 0:00:01\r\u001b[K     |██████████████████▌             | 153kB 9.2MB/s eta 0:00:01\r\u001b[K     |███████████████████▉            | 163kB 9.2MB/s eta 0:00:01\r\u001b[K     |█████████████████████           | 174kB 9.2MB/s eta 0:00:01\r\u001b[K     |██████████████████████▎         | 184kB 9.2MB/s eta 0:00:01\r\u001b[K     |███████████████████████▌        | 194kB 9.2MB/s eta 0:00:01\r\u001b[K     |████████████████████████▊       | 204kB 9.2MB/s eta 0:00:01\r\u001b[K     |██████████████████████████      | 215kB 9.2MB/s eta 0:00:01\r\u001b[K     |███████████████████████████▏    | 225kB 9.2MB/s eta 0:00:01\r\u001b[K     |████████████████████████████▍   | 235kB 9.2MB/s eta 0:00:01\r\u001b[K     |█████████████████████████████▊  | 245kB 9.2MB/s eta 0:00:01\r\u001b[K     |███████████████████████████████ | 256kB 9.2MB/s eta 0:00:01\r\u001b[K     |████████████████████████████████| 266kB 9.2MB/s \n",
            "\u001b[?25hBuilding wheels for collected packages: PyYAML\n",
            "  Building wheel for PyYAML (setup.py) ... \u001b[?25l\u001b[?25hdone\n",
            "  Created wheel for PyYAML: filename=PyYAML-5.1.2-cp36-cp36m-linux_x86_64.whl size=44104 sha256=a01ef78290a904925743db4ae598f841cce641f9707f60a8612ea0fcd7e98bae\n",
            "  Stored in directory: /root/.cache/pip/wheels/d9/45/dd/65f0b38450c47cf7e5312883deb97d065e030c5cca0a365030\n",
            "Successfully built PyYAML\n",
            "Installing collected packages: PyYAML\n",
            "  Found existing installation: PyYAML 3.13\n",
            "    Uninstalling PyYAML-3.13:\n",
            "      Successfully uninstalled PyYAML-3.13\n",
            "Successfully installed PyYAML-5.1.2\n"
          ],
          "name": "stdout"
        },
        {
          "output_type": "display_data",
          "data": {
            "application/vnd.colab-display-data+json": {
              "pip_warning": {
                "packages": [
                  "yaml"
                ]
              }
            }
          },
          "metadata": {
            "tags": []
          }
        }
      ]
    },
    {
      "cell_type": "code",
      "metadata": {
        "id": "wQfmnoyxCQPe",
        "colab_type": "code",
        "colab": {}
      },
      "source": [
        ""
      ],
      "execution_count": 0,
      "outputs": []
    }
  ]
}