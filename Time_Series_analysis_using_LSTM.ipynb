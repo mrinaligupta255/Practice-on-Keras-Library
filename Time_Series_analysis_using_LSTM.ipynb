{
  "nbformat": 4,
  "nbformat_minor": 0,
  "metadata": {
    "colab": {
      "name": "Time Series analysis using LSTM",
      "provenance": [],
      "collapsed_sections": [],
      "include_colab_link": true
    },
    "kernelspec": {
      "name": "python3",
      "display_name": "Python 3"
    }
  },
  "cells": [
    {
      "cell_type": "markdown",
      "metadata": {
        "id": "view-in-github",
        "colab_type": "text"
      },
      "source": [
        "<a href=\"https://colab.research.google.com/github/mrinaligupta255/Practice-on-Keras-Library/blob/master/Time_Series_analysis_using_LSTM.ipynb\" target=\"_parent\"><img src=\"https://colab.research.google.com/assets/colab-badge.svg\" alt=\"Open In Colab\"/></a>"
      ]
    },
    {
      "cell_type": "code",
      "metadata": {
        "id": "Ni62XSq862Ph",
        "colab_type": "code",
        "outputId": "80ffc17f-4c1d-4f8c-86d1-3285ec3b8b08",
        "colab": {
          "base_uri": "https://localhost:8080/",
          "height": 81
        }
      },
      "source": [
        "import tensorflow as tf\n",
        "tf.logging.set_verbosity(tf.logging.ERROR)\n",
        "import pandas as pd\n",
        "import numpy as np\n",
        "import math\n",
        "import matplotlib.pyplot as plt\n",
        "from sklearn.preprocessing import MinMaxScaler\n",
        "from sklearn.metrics import mean_squared_error\n",
        "\n",
        "from keras.layers import Dense,LSTM\n",
        "from keras.models import Sequential\n",
        "\n",
        "plt.style.use(['dark_background'])\n",
        "\n",
        "seed=1\n",
        "url='https://raw.githubusercontent.com/blue-yonder/pydse/master/pydse/data/international-airline-passengers.csv'"
      ],
      "execution_count": 0,
      "outputs": [
        {
          "output_type": "display_data",
          "data": {
            "text/html": [
              "<p style=\"color: red;\">\n",
              "The default version of TensorFlow in Colab will soon switch to TensorFlow 2.x.<br>\n",
              "We recommend you <a href=\"https://www.tensorflow.org/guide/migrate\" target=\"_blank\">upgrade</a> now \n",
              "or ensure your notebook will continue to use TensorFlow 1.x via the <code>%tensorflow_version 1.x</code> magic:\n",
              "<a href=\"https://colab.research.google.com/notebooks/tensorflow_version.ipynb\" target=\"_blank\">more info</a>.</p>\n"
            ],
            "text/plain": [
              "<IPython.core.display.HTML object>"
            ]
          },
          "metadata": {
            "tags": []
          }
        },
        {
          "output_type": "stream",
          "text": [
            "Using TensorFlow backend.\n"
          ],
          "name": "stderr"
        }
      ]
    },
    {
      "cell_type": "code",
      "metadata": {
        "id": "BdwoaHkF7NCt",
        "colab_type": "code",
        "outputId": "7286147b-66fb-4bb6-886b-6622985560de",
        "colab": {
          "base_uri": "https://localhost:8080/",
          "height": 283
        }
      },
      "source": [
        "dataframe=pd.read_csv(url,sep=';',usecols=[1])\n",
        "dataset=dataframe.values\n",
        "dataset=dataset.astype('float32')\n",
        "plt.plot(dataset)"
      ],
      "execution_count": 0,
      "outputs": [
        {
          "output_type": "execute_result",
          "data": {
            "text/plain": [
              "[<matplotlib.lines.Line2D at 0x7f833a913470>]"
            ]
          },
          "metadata": {
            "tags": []
          },
          "execution_count": 2
        },
        {
          "output_type": "display_data",
          "data": {
            "image/png": "[encoded data removed]",
            "text/plain": [
              "<Figure size 432x288 with 1 Axes>"
            ]
          },
          "metadata": {
            "tags": []
          }
        }
      ]
    },
    {
      "cell_type": "code",
      "metadata": {
        "id": "h6RwvGCi7O0t",
        "colab_type": "code",
        "colab": {}
      },
      "source": [
        "#normalize the dataset\n",
        "scaler=MinMaxScaler(feature_range=(0,1))\n",
        "dataset=scaler.fit_transform(dataset)\n",
        "\n",
        "#split data into train and test set\n",
        "train_size=int(len(dataset)*0.67)\n",
        "test_size=len(dataset)-train_size\n",
        "train=dataset[0:train_size,:]\n",
        "test=dataset[train_size:len(dataset),:]"
      ],
      "execution_count": 0,
      "outputs": []
    },
    {
      "cell_type": "code",
      "metadata": {
        "id": "3eSt6Ws17Tqo",
        "colab_type": "code",
        "colab": {}
      },
      "source": [
        "#to convert the problem into regression\n",
        "#given the number of passenger for the last 'look_back months',fing the number of passenger in the next month\n",
        "def create_dataset(dataset,look_back=1):\n",
        "  dataX,dataY=[],[]\n",
        "  for i in range(len(dataset)-look_back):\n",
        "    dataX.append(dataset[i:i+look_back,0])\n",
        "    dataY.append(dataset[i+look_back,0])\n",
        "\n",
        "  return np.array(dataX),np.array(dataY)\n"
      ],
      "execution_count": 0,
      "outputs": []
    },
    {
      "cell_type": "markdown",
      "metadata": {
        "id": "Zedkjl2b8tSu",
        "colab_type": "text"
      },
      "source": [
        "LSTM network excepts the input data(X) in form of [samples,time_steps,features]"
      ]
    },
    {
      "cell_type": "code",
      "metadata": {
        "id": "_Q6f5Lv-8s7a",
        "colab_type": "code",
        "outputId": "84aaa0ef-2500-48a1-e880-99e514ae6573",
        "colab": {
          "base_uri": "https://localhost:8080/",
          "height": 52
        }
      },
      "source": [
        "look_back=1\n",
        "trainX,trainY=create_dataset(train,look_back)\n",
        "testX,testY=create_dataset(test,look_back)\n",
        "print(testX.shape)\n",
        "trainX=trainX.reshape((trainX.shape[0],1,trainX.shape[1]))\n",
        "testX=np.reshape(testX,(testX.shape[0],1,testX.shape[1]))\n",
        "print(testX.shape)"
      ],
      "execution_count": 0,
      "outputs": [
        {
          "output_type": "stream",
          "text": [
            "(47, 1)\n",
            "(47, 1, 1)\n"
          ],
          "name": "stdout"
        }
      ]
    },
    {
      "cell_type": "code",
      "metadata": {
        "id": "no_LeCqw9afD",
        "colab_type": "code",
        "outputId": "6e3fd301-afa1-4875-d7a1-ff9be20d447d",
        "colab": {
          "base_uri": "https://localhost:8080/",
          "height": 124
        }
      },
      "source": [
        "model=Sequential()\n",
        "model.add(LSTM(4,input_dim=look_back))\n",
        "model.add(Dense(1))\n",
        "model.compile(loss='mean_squared_error',optimizer='adam')\n",
        "model.fit(trainX,trainY,epochs=200,batch_size=2,verbose=0)"
      ],
      "execution_count": 0,
      "outputs": [
        {
          "output_type": "stream",
          "text": [
            "/usr/local/lib/python3.6/dist-packages/ipykernel_launcher.py:2: UserWarning: The `input_dim` and `input_length` arguments in recurrent layers are deprecated. Use `input_shape` instead.\n",
            "  \n",
            "/usr/local/lib/python3.6/dist-packages/ipykernel_launcher.py:2: UserWarning: Update your `LSTM` call to the Keras 2 API: `LSTM(4, input_shape=(None, 1))`\n",
            "  \n"
          ],
          "name": "stderr"
        },
        {
          "output_type": "execute_result",
          "data": {
            "text/plain": [
              "<keras.callbacks.History at 0x7f8339b19be0>"
            ]
          },
          "metadata": {
            "tags": []
          },
          "execution_count": 6
        }
      ]
    },
    {
      "cell_type": "code",
      "metadata": {
        "id": "HbMZYhvU_eIr",
        "colab_type": "code",
        "outputId": "5b21fc08-822b-42d2-a911-8c6bbce9f4b2",
        "colab": {
          "base_uri": "https://localhost:8080/",
          "height": 52
        }
      },
      "source": [
        "trainscore=model.evaluate(trainX,trainY,verbose=0)\n",
        "print('Train score',trainscore,math.sqrt(trainscore))\n",
        "testscore=model.evaluate(testX,testY,verbose=0)\n",
        "print('Train score',testscore,math.sqrt(testscore))"
      ],
      "execution_count": 0,
      "outputs": [
        {
          "output_type": "stream",
          "text": [
            "Train score 0.0019344787260419443 0.04398270939860281\n",
            "Train score 0.009451211628286129 0.09721734221982274\n"
          ],
          "name": "stdout"
        }
      ]
    },
    {
      "cell_type": "code",
      "metadata": {
        "id": "qwdFI_ca_eol",
        "colab_type": "code",
        "colab": {}
      },
      "source": [
        ""
      ],
      "execution_count": 0,
      "outputs": []
    },
    {
      "cell_type": "code",
      "metadata": {
        "id": "Vy9M7yGdAcKr",
        "colab_type": "code",
        "colab": {}
      },
      "source": [
        ""
      ],
      "execution_count": 0,
      "outputs": []
    }
  ]
}