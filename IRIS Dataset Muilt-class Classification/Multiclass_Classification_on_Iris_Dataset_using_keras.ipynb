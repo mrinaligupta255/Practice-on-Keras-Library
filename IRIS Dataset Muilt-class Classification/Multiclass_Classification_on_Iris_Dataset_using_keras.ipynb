{
  "nbformat": 4,
  "nbformat_minor": 0,
  "metadata": {
    "colab": {
      "name": "Multiclass Classification on Iris Dataset using keras.ipynb",
      "provenance": [],
      "collapsed_sections": [],
      "include_colab_link": true
    },
    "kernelspec": {
      "name": "python3",
      "display_name": "Python 3"
    }
  },
  "cells": [
    {
      "cell_type": "markdown",
      "metadata": {
        "id": "view-in-github",
        "colab_type": "text"
      },
      "source": [
        "<a href=\"https://colab.research.google.com/github/mrinaligupta255/Practice-on-Keras-Library/blob/master/IRIS%20Dataset%20Muilt-class%20Classification/Multiclass_Classification_on_Iris_Dataset_using_keras.ipynb\" target=\"_parent\"><img src=\"https://colab.research.google.com/assets/colab-badge.svg\" alt=\"Open In Colab\"/></a>"
      ]
    },
    {
      "cell_type": "code",
      "metadata": {
        "id": "12vEsuJ2kihd",
        "colab_type": "code",
        "outputId": "737f54ee-b51d-464e-8a57-66efc0b25c5b",
        "colab": {
          "base_uri": "https://localhost:8080/",
          "height": 124
        }
      },
      "source": [
        "from google.colab import drive\n",
        "drive.mount('/content/gdrive')\n"
      ],
      "execution_count": 1,
      "outputs": [
        {
          "output_type": "stream",
          "text": [
            "Go to this URL in a browser: https://accounts.google.com/o/oauth2/auth?client_id=947318989803-6bn6qk8qdgf4n4g3pfee6491hc0brc4i.apps.googleusercontent.com&redirect_uri=urn%3aietf%3awg%3aoauth%3a2.0%3aoob&response_type=code&scope=email%20https%3a%2f%2fwww.googleapis.com%2fauth%2fdocs.test%20https%3a%2f%2fwww.googleapis.com%2fauth%2fdrive%20https%3a%2f%2fwww.googleapis.com%2fauth%2fdrive.photos.readonly%20https%3a%2f%2fwww.googleapis.com%2fauth%2fpeopleapi.readonly\n",
            "\n",
            "Enter your authorization code:\n",
            "··········\n",
            "Mounted at /content/gdrive\n"
          ],
          "name": "stdout"
        }
      ]
    },
    {
      "cell_type": "code",
      "metadata": {
        "id": "ZIMAikxzF2P4",
        "colab_type": "code",
        "colab": {
          "base_uri": "https://localhost:8080/",
          "height": 64
        },
        "outputId": "23399fca-8b59-4fac-ee94-2f9098fdc047"
      },
      "source": [
        "import tensorflow as tf\n",
        "\n",
        "#to remove tensorflow update warnings from the output window\n",
        "tf.logging.set_verbosity(tf.logging.ERROR)"
      ],
      "execution_count": 2,
      "outputs": [
        {
          "output_type": "display_data",
          "data": {
            "text/html": [
              "<p style=\"color: red;\">\n",
              "The default version of TensorFlow in Colab will soon switch to TensorFlow 2.x.<br>\n",
              "We recommend you <a href=\"https://www.tensorflow.org/guide/migrate\" target=\"_blank\">upgrade</a> now \n",
              "or ensure your notebook will continue to use TensorFlow 1.x via the <code>%tensorflow_version 1.x</code> magic:\n",
              "<a href=\"https://colab.research.google.com/notebooks/tensorflow_version.ipynb\" target=\"_blank\">more info</a>.</p>\n"
            ],
            "text/plain": [
              "<IPython.core.display.HTML object>"
            ]
          },
          "metadata": {
            "tags": []
          }
        }
      ]
    },
    {
      "cell_type": "code",
      "metadata": {
        "id": "6YL97Za2mxiD",
        "colab_type": "code",
        "colab": {
          "base_uri": "https://localhost:8080/",
          "height": 35
        },
        "outputId": "03af0e32-5253-4bda-bdb9-7f54fcc6d82b"
      },
      "source": [
        "#importing the required libraries\n",
        "import numpy as np\n",
        "import pandas as pd\n",
        "from keras.layers import Dense\n",
        "from keras.models import Sequential\n",
        "from keras.wrappers.scikit_learn import KerasClassifier\n",
        "\n",
        "from keras.utils import np_utils\n",
        "\n",
        "\n",
        "from sklearn.model_selection import train_test_split,cross_val_score,KFold\n",
        "#from sklearn.model_selection import GridSearchCV\n",
        "from sklearn.preprocessing import LabelEncoder\n",
        "from sklearn.pipeline import Pipeline\n"
      ],
      "execution_count": 3,
      "outputs": [
        {
          "output_type": "stream",
          "text": [
            "Using TensorFlow backend.\n"
          ],
          "name": "stderr"
        }
      ]
    },
    {
      "cell_type": "code",
      "metadata": {
        "id": "AtnB7_avoMrN",
        "colab_type": "code",
        "colab": {}
      },
      "source": [
        "#fix random seed for repoducing the result\n",
        "seed=1\n",
        "np.random.seed(seed)"
      ],
      "execution_count": 0,
      "outputs": []
    },
    {
      "cell_type": "code",
      "metadata": {
        "id": "XGiW9qqwq3KF",
        "colab_type": "code",
        "colab": {}
      },
      "source": [
        "#read the data\n",
        "\n",
        "dataframe=pd.read_csv('/content/gdrive/My Drive/Datasets/iris.csv',header=None)\n",
        "data=dataframe.values\n",
        "X=data[:,:4]\n",
        "#print(dataframe.dtypes)\n",
        "Y=data[:,4]\n",
        "#print(dataframe)"
      ],
      "execution_count": 0,
      "outputs": []
    },
    {
      "cell_type": "code",
      "metadata": {
        "id": "PDb-EdsHrl3E",
        "colab_type": "code",
        "colab": {}
      },
      "source": [
        "# encoding the output categorical data for multiclass classsifcation problem\n",
        "#LabelEncoder() is used to encode the Y values as 0,1,2 for the 3 classes respectively\n",
        "#np_utils.to_categorical() coverts the vector os integers into one hot encoding (binary class matrix)\n",
        "encoder=LabelEncoder()\n",
        "encoded_Y=encoder.fit_transform(Y) \n",
        "dummy_y=np_utils.to_categorical(encoded_Y)\n",
        "#print(dummy_y)"
      ],
      "execution_count": 0,
      "outputs": []
    },
    {
      "cell_type": "code",
      "metadata": {
        "id": "ZVu1p8O5uUEM",
        "colab_type": "code",
        "outputId": "3ec1c36f-c856-487d-b7df-7f7523a61611",
        "colab": {
          "base_uri": "https://localhost:8080/",
          "height": 35
        }
      },
      "source": [
        "#creating model\n",
        "\n",
        "def base_model():\n",
        "  model=Sequential()\n",
        "  model.add(Dense(5,input_dim=4,activation='relu',kernel_initializer='normal'))\n",
        "  model.add(Dense(3, kernel_initializer='normal',activation='sigmoid'))\n",
        "\n",
        "  #compile model\n",
        "  model.compile(loss='categorical_crossentropy',optimizer='adam',metrics=['accuracy'])\n",
        "\n",
        "  return model\n",
        "\n",
        "estimator=KerasClassifier(build_fn=base_model,epochs=200,batch_size=5,verbose=0)\n",
        "\n",
        "kfold=KFold(n_splits=10,shuffle=True,random_state=seed)\n",
        "result=cross_val_score(estimator,X,dummy_y,cv=kfold)\n",
        "print('Accuracy:',result.mean()*100)\n"
      ],
      "execution_count": 7,
      "outputs": [
        {
          "output_type": "stream",
          "text": [
            "Accuracy: 88.66666684548059\n"
          ],
          "name": "stdout"
        }
      ]
    },
    {
      "cell_type": "code",
      "metadata": {
        "id": "lahyU6UKQzyj",
        "colab_type": "code",
        "colab": {
          "base_uri": "https://localhost:8080/",
          "height": 69
        },
        "outputId": "c4ea0558-e33a-4053-8dd3-c2b66eba7623"
      },
      "source": [
        "print(result*100)\n",
        "print(result.mean()*100)"
      ],
      "execution_count": 10,
      "outputs": [
        {
          "output_type": "stream",
          "text": [
            "[100.          80.0000002  100.         100.         100.\n",
            "  26.66666706 100.         100.         100.          80.00000119]\n",
            "88.66666684548059\n"
          ],
          "name": "stdout"
        }
      ]
    },
    {
      "cell_type": "code",
      "metadata": {
        "id": "bN620sMAGhGp",
        "colab_type": "code",
        "colab": {}
      },
      "source": [
        ""
      ],
      "execution_count": 0,
      "outputs": []
    }
  ]
}