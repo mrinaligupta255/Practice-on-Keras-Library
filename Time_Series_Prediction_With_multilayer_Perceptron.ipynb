{
  "nbformat": 4,
  "nbformat_minor": 0,
  "metadata": {
    "colab": {
      "name": "Time Series Prediction With multilayer Perceptron.ipynb",
      "provenance": [],
      "collapsed_sections": [],
      "include_colab_link": true
    },
    "kernelspec": {
      "name": "python3",
      "display_name": "Python 3"
    }
  },
  "cells": [
    {
      "cell_type": "markdown",
      "metadata": {
        "id": "view-in-github",
        "colab_type": "text"
      },
      "source": [
        "<a href=\"https://colab.research.google.com/github/mrinaligupta255/Practice-on-Keras-Library/blob/master/Time_Series_Prediction_With_multilayer_Perceptron.ipynb\" target=\"_parent\"><img src=\"https://colab.research.google.com/assets/colab-badge.svg\" alt=\"Open In Colab\"/></a>"
      ]
    },
    {
      "cell_type": "code",
      "metadata": {
        "id": "SLp7qAjT3IOz",
        "colab_type": "code",
        "colab": {
          "base_uri": "https://localhost:8080/",
          "height": 81
        },
        "outputId": "e70fcc74-5bec-4318-c54d-446f60a2d09b"
      },
      "source": [
        "import tensorflow as tf\n",
        "tf.logging.set_verbosity(tf.logging.ERROR)\n",
        "import pandas as pd\n",
        "import numpy as np\n",
        "import math\n",
        "import matplotlib.pyplot as plt\n",
        "\n",
        "from keras.layers import Dense\n",
        "from keras.models import Sequential\n",
        "\n",
        "plt.style.use(['dark_background'])\n",
        "\n",
        "seed=1\n",
        "url='https://raw.githubusercontent.com/blue-yonder/pydse/master/pydse/data/international-airline-passengers.csv'"
      ],
      "execution_count": 1,
      "outputs": [
        {
          "output_type": "display_data",
          "data": {
            "text/html": [
              "<p style=\"color: red;\">\n",
              "The default version of TensorFlow in Colab will soon switch to TensorFlow 2.x.<br>\n",
              "We recommend you <a href=\"https://www.tensorflow.org/guide/migrate\" target=\"_blank\">upgrade</a> now \n",
              "or ensure your notebook will continue to use TensorFlow 1.x via the <code>%tensorflow_version 1.x</code> magic:\n",
              "<a href=\"https://colab.research.google.com/notebooks/tensorflow_version.ipynb\" target=\"_blank\">more info</a>.</p>\n"
            ],
            "text/plain": [
              "<IPython.core.display.HTML object>"
            ]
          },
          "metadata": {
            "tags": []
          }
        },
        {
          "output_type": "stream",
          "text": [
            "Using TensorFlow backend.\n"
          ],
          "name": "stderr"
        }
      ]
    },
    {
      "cell_type": "code",
      "metadata": {
        "id": "KA4KaFbY6fBg",
        "colab_type": "code",
        "colab": {
          "base_uri": "https://localhost:8080/",
          "height": 1000
        },
        "outputId": "0ef1fc38-33c4-4282-c3de-7570edb6c1c2"
      },
      "source": [
        "dataframe=pd.read_csv(url,sep=';',usecols=[1])\n",
        "dataset=dataframe.values\n",
        "print(dataset)\n",
        "plt.plot(dataset)"
      ],
      "execution_count": 2,
      "outputs": [
        {
          "output_type": "stream",
          "text": [
            "[[112]\n",
            " [118]\n",
            " [132]\n",
            " [129]\n",
            " [121]\n",
            " [135]\n",
            " [148]\n",
            " [148]\n",
            " [136]\n",
            " [119]\n",
            " [104]\n",
            " [118]\n",
            " [115]\n",
            " [126]\n",
            " [141]\n",
            " [135]\n",
            " [125]\n",
            " [149]\n",
            " [170]\n",
            " [170]\n",
            " [158]\n",
            " [133]\n",
            " [114]\n",
            " [140]\n",
            " [145]\n",
            " [150]\n",
            " [178]\n",
            " [163]\n",
            " [172]\n",
            " [178]\n",
            " [199]\n",
            " [199]\n",
            " [184]\n",
            " [162]\n",
            " [146]\n",
            " [166]\n",
            " [171]\n",
            " [180]\n",
            " [193]\n",
            " [181]\n",
            " [183]\n",
            " [218]\n",
            " [230]\n",
            " [242]\n",
            " [209]\n",
            " [191]\n",
            " [172]\n",
            " [194]\n",
            " [196]\n",
            " [196]\n",
            " [236]\n",
            " [235]\n",
            " [229]\n",
            " [243]\n",
            " [264]\n",
            " [272]\n",
            " [237]\n",
            " [211]\n",
            " [180]\n",
            " [201]\n",
            " [204]\n",
            " [188]\n",
            " [235]\n",
            " [227]\n",
            " [234]\n",
            " [264]\n",
            " [302]\n",
            " [293]\n",
            " [259]\n",
            " [229]\n",
            " [203]\n",
            " [229]\n",
            " [242]\n",
            " [233]\n",
            " [267]\n",
            " [269]\n",
            " [270]\n",
            " [315]\n",
            " [364]\n",
            " [347]\n",
            " [312]\n",
            " [274]\n",
            " [237]\n",
            " [278]\n",
            " [284]\n",
            " [277]\n",
            " [317]\n",
            " [313]\n",
            " [318]\n",
            " [374]\n",
            " [413]\n",
            " [405]\n",
            " [355]\n",
            " [306]\n",
            " [271]\n",
            " [306]\n",
            " [315]\n",
            " [301]\n",
            " [356]\n",
            " [348]\n",
            " [355]\n",
            " [422]\n",
            " [465]\n",
            " [467]\n",
            " [404]\n",
            " [347]\n",
            " [305]\n",
            " [336]\n",
            " [340]\n",
            " [318]\n",
            " [362]\n",
            " [348]\n",
            " [363]\n",
            " [435]\n",
            " [491]\n",
            " [505]\n",
            " [404]\n",
            " [359]\n",
            " [310]\n",
            " [337]\n",
            " [360]\n",
            " [342]\n",
            " [406]\n",
            " [396]\n",
            " [420]\n",
            " [472]\n",
            " [548]\n",
            " [559]\n",
            " [463]\n",
            " [407]\n",
            " [362]\n",
            " [405]\n",
            " [417]\n",
            " [391]\n",
            " [419]\n",
            " [461]\n",
            " [472]\n",
            " [535]\n",
            " [622]\n",
            " [606]\n",
            " [508]\n",
            " [461]\n",
            " [390]\n",
            " [432]]\n"
          ],
          "name": "stdout"
        },
        {
          "output_type": "execute_result",
          "data": {
            "text/plain": [
              "[<matplotlib.lines.Line2D at 0x7f48249bb470>]"
            ]
          },
          "metadata": {
            "tags": []
          },
          "execution_count": 2
        },
        {
          "output_type": "display_data",
          "data": {
            "image/png": "[encoded data removed]",
            "text/plain": [
              "<Figure size 432x288 with 1 Axes>"
            ]
          },
          "metadata": {
            "tags": []
          }
        }
      ]
    },
    {
      "cell_type": "code",
      "metadata": {
        "id": "tkL0YgK99fAy",
        "colab_type": "code",
        "colab": {}
      },
      "source": [
        "train_size=int(len(dataset)*0.67)\n",
        "test_size=len(dataset)-train_size\n",
        "train=dataset[0:train_size,:]\n",
        "test=dataset[train_size:len(dataset),:]"
      ],
      "execution_count": 0,
      "outputs": []
    },
    {
      "cell_type": "code",
      "metadata": {
        "id": "ai5UQ4_HaIob",
        "colab_type": "code",
        "colab": {}
      },
      "source": [
        "#to convert the problem into regression\n",
        "#given the number of passenger for the last 'look_back months',fing the number of passenger in the next month\n",
        "def create_dataset(dataset,look_back=1):\n",
        "  dataX,dataY=[],[]\n",
        "  for i in range(len(dataset)-look_back):\n",
        "    dataX.append(dataset[i:i+look_back,0])\n",
        "    dataY.append(dataset[i+look_back,0])\n",
        "\n",
        "  return np.array(dataX),np.array(dataY)\n"
      ],
      "execution_count": 0,
      "outputs": []
    },
    {
      "cell_type": "code",
      "metadata": {
        "id": "ltaFIOwE6tLa",
        "colab_type": "code",
        "colab": {
          "base_uri": "https://localhost:8080/",
          "height": 52
        },
        "outputId": "f055cdc7-3c52-41ed-f0ba-e9a09cf3d276"
      },
      "source": [
        "\n",
        "look_back=1\n",
        "x_train,y_train=create_dataset(train,look_back)\n",
        "print(x_train.shape)\n",
        "x_test,y_test=create_dataset(test,look_back)\n",
        "model=Sequential()\n",
        "model.add(Dense(8,input_dim=look_back,activation='relu',kernel_initializer='normal'))\n",
        "model.add(Dense(1))\n",
        "model.compile(loss='mean_squared_error',optimizer='adam')\n",
        "model.fit(x_train,y_train,epochs=200,batch_size=2,verbose=0)"
      ],
      "execution_count": 5,
      "outputs": [
        {
          "output_type": "stream",
          "text": [
            "(95, 1)\n"
          ],
          "name": "stdout"
        },
        {
          "output_type": "execute_result",
          "data": {
            "text/plain": [
              "<keras.callbacks.History at 0x7f4823c96a90>"
            ]
          },
          "metadata": {
            "tags": []
          },
          "execution_count": 5
        }
      ]
    },
    {
      "cell_type": "code",
      "metadata": {
        "id": "ak6gq33Ha41t",
        "colab_type": "code",
        "colab": {
          "base_uri": "https://localhost:8080/",
          "height": 52
        },
        "outputId": "14936685-4f92-4643-da47-93dcc2acc928"
      },
      "source": [
        "trainscore=model.evaluate(x_train,y_train,verbose=0)\n",
        "print('Train score',trainscore,math.sqrt(trainscore))\n",
        "testscore=model.evaluate(x_test,y_test,verbose=0)\n",
        "print('Train score',testscore,math.sqrt(testscore))"
      ],
      "execution_count": 6,
      "outputs": [
        {
          "output_type": "stream",
          "text": [
            "Train score 537.8054346988075 23.190632477334624\n",
            "Train score 2343.8201930269283 48.41301677262974\n"
          ],
          "name": "stdout"
        }
      ]
    },
    {
      "cell_type": "code",
      "metadata": {
        "id": "4-rUj5CPhwtb",
        "colab_type": "code",
        "colab": {
          "base_uri": "https://localhost:8080/",
          "height": 265
        },
        "outputId": "832964df-8cc1-4725-8363-62830a217295"
      },
      "source": [
        "train_predict=model.predict(x_train)\n",
        "test_predict=model.predict(x_test)\n",
        "plt.plot(dataset)\n",
        "plt.plot(train_predict)\n",
        "plt.plot(test_predict)\n",
        "plt.show()"
      ],
      "execution_count": 19,
      "outputs": [
        {
          "output_type": "display_data",
          "data": {
            "image/png": "[encoded data removed]",
            "text/plain": [
              "<Figure size 432x288 with 1 Axes>"
            ]
          },
          "metadata": {
            "tags": []
          }
        }
      ]
    },
    {
      "cell_type": "code",
      "metadata": {
        "id": "RTy9fH0ltyZS",
        "colab_type": "code",
        "colab": {}
      },
      "source": [
        ""
      ],
      "execution_count": 0,
      "outputs": []
    }
  ]
}