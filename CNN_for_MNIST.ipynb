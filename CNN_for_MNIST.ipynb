{
  "nbformat": 4,
  "nbformat_minor": 0,
  "metadata": {
    "colab": {
      "name": "CNN for MNIST.ipynb",
      "provenance": [],
      "include_colab_link": true
    },
    "kernelspec": {
      "name": "python3",
      "display_name": "Python 3"
    }
  },
  "cells": [
    {
      "cell_type": "markdown",
      "metadata": {
        "id": "view-in-github",
        "colab_type": "text"
      },
      "source": [
        "<a href=\"https://colab.research.google.com/github/mrinaligupta255/Practice-on-Keras-Library/blob/master/CNN_for_MNIST.ipynb\" target=\"_parent\"><img src=\"https://colab.research.google.com/assets/colab-badge.svg\" alt=\"Open In Colab\"/></a>"
      ]
    },
    {
      "cell_type": "code",
      "metadata": {
        "id": "nygFmoyuBIGf",
        "colab_type": "code",
        "colab": {}
      },
      "source": [
        "import tensorflow as tf\n",
        "tf.logging.set_verbosity(tf.logging.ERROR)\n",
        "\n",
        "import numpy as np\n",
        "from keras.datasets import mnist\n",
        "from keras.models import Sequential\n",
        "from keras.layers import Dense,Conv2D,MaxPooling2D,Flatten\n",
        "from keras.utils import to_categorical\n",
        "\n",
        "import matplotlib.pyplot as plt\n",
        "\n"
      ],
      "execution_count": 0,
      "outputs": []
    },
    {
      "cell_type": "code",
      "metadata": {
        "id": "iOthJNOVNPGj",
        "colab_type": "code",
        "colab": {}
      },
      "source": [
        "#import the data from the mnist dataset\n",
        "seed=3\n",
        "np.random.seed(seed)\n",
        "(x_train,y_train),(x_test,y_test)=mnist.load_data()"
      ],
      "execution_count": 0,
      "outputs": []
    },
    {
      "cell_type": "code",
      "metadata": {
        "id": "qfV8C0wiNehA",
        "colab_type": "code",
        "colab": {
          "base_uri": "https://localhost:8080/",
          "height": 303
        },
        "outputId": "15545e75-4214-4d28-e7e4-910ca4f38cd6"
      },
      "source": [
        "plt.subplot(221)\n",
        "plt.imshow(x_train[0])\n",
        "plt.subplot(222)\n",
        "plt.imshow(x_train[1])\n",
        "plt.subplot(223)\n",
        "plt.imshow(x_train[2])\n",
        "plt.subplot(224)\n",
        "plt.imshow(x_train[3])\n",
        "print('shape of trainig set:',x_train.shape)\n",
        "print('shape of test set:',x_test.shape)\n"
      ],
      "execution_count": 33,
      "outputs": [
        {
          "output_type": "stream",
          "text": [
            "shape of trainig set: (60000, 28, 28)\n",
            "shape of test set: (10000, 28, 28)\n"
          ],
          "name": "stdout"
        },
        {
          "output_type": "display_data",
          "data": {
            "image/png": "[encoded data removed]",
            "text/plain": [
              "<Figure size 432x288 with 4 Axes>"
            ]
          },
          "metadata": {
            "tags": []
          }
        }
      ]
    },
    {
      "cell_type": "code",
      "metadata": {
        "id": "cZoXI-dANt_J",
        "colab_type": "code",
        "colab": {
          "base_uri": "https://localhost:8080/",
          "height": 35
        },
        "outputId": "c3966165-351a-4508-f28c-9708256419e9"
      },
      "source": [
        "num_input=x_train.shape[1]*x_train.shape[2]\n",
        "x_train=x_train.reshape(x_train.shape[0],num_input)\n",
        "x_test=x_test.reshape(x_test.shape[0],num_input)\n",
        "x_train=x_train/255\n",
        "x_test=x_test/255\n",
        "print('shape of trainig set:',x_train.shape)\n",
        "y_train=to_categorical(y_train)\n",
        "y_test=to_categorical(y_test)\n",
        "\n",
        "\n"
      ],
      "execution_count": 34,
      "outputs": [
        {
          "output_type": "stream",
          "text": [
            "shape of trainig set: (60000, 784)\n"
          ],
          "name": "stdout"
        }
      ]
    },
    {
      "cell_type": "code",
      "metadata": {
        "id": "jKy9oBHnOE-J",
        "colab_type": "code",
        "colab": {
          "base_uri": "https://localhost:8080/",
          "height": 399
        },
        "outputId": "bd66771d-7072-4b47-f87a-a261746a3212"
      },
      "source": [
        "# using simple neural network\n",
        "model=Sequential()\n",
        "model.add(Dense(num_input,input_dim=num_input,kernel_initializer='normal',activation='relu'))\n",
        "model.add(Dense(10,kernel_initializer='normal',activation='softmax'))\n",
        "\n",
        "model.compile(loss='categorical_crossentropy',optimizer='adam',metrics=['accuracy'])\n",
        "\n",
        "model.fit(x_train,y_train,validation_data=(x_test,y_test),epochs=10,batch_size=200,verbose=2)\n",
        "\n",
        "scores=model.evaluate(x_test,y_test,verbose=0)\n"
      ],
      "execution_count": 35,
      "outputs": [
        {
          "output_type": "stream",
          "text": [
            "Train on 60000 samples, validate on 10000 samples\n",
            "Epoch 1/10\n",
            " - 7s - loss: 0.2791 - acc: 0.9207 - val_loss: 0.1394 - val_acc: 0.9587\n",
            "Epoch 2/10\n",
            " - 6s - loss: 0.1116 - acc: 0.9684 - val_loss: 0.0967 - val_acc: 0.9711\n",
            "Epoch 3/10\n",
            " - 6s - loss: 0.0716 - acc: 0.9791 - val_loss: 0.0799 - val_acc: 0.9768\n",
            "Epoch 4/10\n",
            " - 6s - loss: 0.0502 - acc: 0.9855 - val_loss: 0.0749 - val_acc: 0.9775\n",
            "Epoch 5/10\n",
            " - 6s - loss: 0.0368 - acc: 0.9892 - val_loss: 0.0630 - val_acc: 0.9813\n",
            "Epoch 6/10\n",
            " - 6s - loss: 0.0268 - acc: 0.9929 - val_loss: 0.0655 - val_acc: 0.9785\n",
            "Epoch 7/10\n",
            " - 6s - loss: 0.0197 - acc: 0.9952 - val_loss: 0.0610 - val_acc: 0.9810\n",
            "Epoch 8/10\n",
            " - 6s - loss: 0.0157 - acc: 0.9963 - val_loss: 0.0583 - val_acc: 0.9820\n",
            "Epoch 9/10\n",
            " - 6s - loss: 0.0115 - acc: 0.9977 - val_loss: 0.0589 - val_acc: 0.9822\n",
            "Epoch 10/10\n",
            " - 6s - loss: 0.0082 - acc: 0.9985 - val_loss: 0.0591 - val_acc: 0.9823\n",
            "Loss: 94.09421319145419\n"
          ],
          "name": "stdout"
        }
      ]
    },
    {
      "cell_type": "code",
      "metadata": {
        "id": "YsInsDgKSsqH",
        "colab_type": "code",
        "colab": {
          "base_uri": "https://localhost:8080/",
          "height": 52
        },
        "outputId": "ea182346-670d-428a-9d01-2583fab50a95"
      },
      "source": [
        "print('scores:',scores)\n",
        "print(\"Error:\",100-scores[1]*100,'%')"
      ],
      "execution_count": 37,
      "outputs": [
        {
          "output_type": "stream",
          "text": [
            "scores: [0.059057868085458175, 0.9823]\n",
            "Loss: 1.7700000000000102 %\n"
          ],
          "name": "stdout"
        }
      ]
    },
    {
      "cell_type": "code",
      "metadata": {
        "id": "lkTzoAPARVup",
        "colab_type": "code",
        "colab": {
          "base_uri": "https://localhost:8080/",
          "height": 35
        },
        "outputId": "55d65f21-53db-4193-b634-e11259ddd56f"
      },
      "source": [
        "#using convlotional neural network with conv and pooling layer\n",
        "np.random.seed(seed)\n",
        "(x_train1,y_train1),(x_test1,y_test1)=mnist.load_data()\n",
        "x_train1=x_train1.reshape(x_train1.shape[0],28,28,1)\n",
        "x_test1=x_test1.reshape(x_test1.shape[0],28,28,1)\n",
        "x_train1=x_train1/255\n",
        "x_test1=x_test1/255\n",
        "print('shape of trainig set:',x_train1.shape)\n",
        "y_train1=to_categorical(y_train1)\n",
        "y_test1=to_categorical(y_test1)\n",
        "\n"
      ],
      "execution_count": 61,
      "outputs": [
        {
          "output_type": "stream",
          "text": [
            "shape of trainig set: (60000, 28, 28, 1)\n"
          ],
          "name": "stdout"
        }
      ]
    },
    {
      "cell_type": "code",
      "metadata": {
        "id": "-5brxjLwYvRf",
        "colab_type": "code",
        "colab": {
          "base_uri": "https://localhost:8080/",
          "height": 693
        },
        "outputId": "073857f7-e9ce-431e-c53b-6427b5d4d150"
      },
      "source": [
        "conv_model=Sequential()\n",
        "conv_model.add(Conv2D(32,(5,5),activation='relu',padding='valid',input_shape=(28,28,1)))\n",
        "conv_model.add(MaxPooling2D(pool_size=(2,2)))\n",
        "conv_model.add(Flatten())\n",
        "conv_model.add(Dense(128,activation='relu'))\n",
        "conv_model.add(Dense(10,activation='softmax'))\n",
        "conv_model.summary()\n",
        "conv_model.compile(loss='categorical_crossentropy',optimizer='adam',metrics=['accuracy'])\n",
        "\n",
        "conv_model.fit(x_train1,y_train1,validation_data=(x_test1,y_test1),epochs=10,batch_size=200,verbose=2)\n",
        "\n",
        "scores=conv_model.evaluate(x_test1,y_test1,verbose=0)"
      ],
      "execution_count": 63,
      "outputs": [
        {
          "output_type": "stream",
          "text": [
            "Model: \"sequential_25\"\n",
            "_________________________________________________________________\n",
            "Layer (type)                 Output Shape              Param #   \n",
            "=================================================================\n",
            "conv2d_17 (Conv2D)           (None, 24, 24, 32)        832       \n",
            "_________________________________________________________________\n",
            "max_pooling2d_5 (MaxPooling2 (None, 12, 12, 32)        0         \n",
            "_________________________________________________________________\n",
            "flatten_4 (Flatten)          (None, 4608)              0         \n",
            "_________________________________________________________________\n",
            "dense_15 (Dense)             (None, 128)               589952    \n",
            "_________________________________________________________________\n",
            "dense_16 (Dense)             (None, 10)                1290      \n",
            "=================================================================\n",
            "Total params: 592,074\n",
            "Trainable params: 592,074\n",
            "Non-trainable params: 0\n",
            "_________________________________________________________________\n",
            "Train on 60000 samples, validate on 10000 samples\n",
            "Epoch 1/10\n",
            " - 27s - loss: 0.2467 - acc: 0.9280 - val_loss: 0.0734 - val_acc: 0.9789\n",
            "Epoch 2/10\n",
            " - 27s - loss: 0.0677 - acc: 0.9802 - val_loss: 0.0619 - val_acc: 0.9789\n",
            "Epoch 3/10\n",
            " - 27s - loss: 0.0474 - acc: 0.9861 - val_loss: 0.0471 - val_acc: 0.9848\n",
            "Epoch 4/10\n",
            " - 26s - loss: 0.0356 - acc: 0.9886 - val_loss: 0.0370 - val_acc: 0.9881\n",
            "Epoch 5/10\n",
            " - 27s - loss: 0.0284 - acc: 0.9911 - val_loss: 0.0456 - val_acc: 0.9859\n",
            "Epoch 6/10\n",
            " - 26s - loss: 0.0220 - acc: 0.9930 - val_loss: 0.0387 - val_acc: 0.9865\n",
            "Epoch 7/10\n",
            " - 26s - loss: 0.0170 - acc: 0.9949 - val_loss: 0.0370 - val_acc: 0.9885\n",
            "Epoch 8/10\n",
            " - 28s - loss: 0.0147 - acc: 0.9956 - val_loss: 0.0423 - val_acc: 0.9868\n",
            "Epoch 9/10\n",
            " - 28s - loss: 0.0116 - acc: 0.9966 - val_loss: 0.0419 - val_acc: 0.9875\n",
            "Epoch 10/10\n",
            " - 27s - loss: 0.0102 - acc: 0.9968 - val_loss: 0.0426 - val_acc: 0.9867\n"
          ],
          "name": "stdout"
        }
      ]
    },
    {
      "cell_type": "code",
      "metadata": {
        "id": "7Lw4VNXtUTN5",
        "colab_type": "code",
        "colab": {
          "base_uri": "https://localhost:8080/",
          "height": 52
        },
        "outputId": "4f97ec08-2670-4daa-a990-e63297b7031e"
      },
      "source": [
        "print('scores:',scores)\n",
        "print(\"CNN Error:\",100-scores[1]*100,'%')"
      ],
      "execution_count": 64,
      "outputs": [
        {
          "output_type": "stream",
          "text": [
            "scores: [0.04264218516360561, 0.9867]\n",
            "CNN Error: 1.3299999999999983 %\n"
          ],
          "name": "stdout"
        }
      ]
    },
    {
      "cell_type": "code",
      "metadata": {
        "id": "5KIdFFhLaexW",
        "colab_type": "code",
        "colab": {}
      },
      "source": [
        ""
      ],
      "execution_count": 0,
      "outputs": []
    }
  ]
}